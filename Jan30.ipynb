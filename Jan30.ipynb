{
 "cells": [
  {
   "cell_type": "markdown",
   "id": "3563865b",
   "metadata": {},
   "source": [
    "### 1"
   ]
  },
  {
   "cell_type": "code",
   "execution_count": 3,
   "id": "7129331d",
   "metadata": {},
   "outputs": [
    {
     "name": "stdout",
     "output_type": "stream",
     "text": [
      "Enter Percenatge=85\n",
      "B grade\n"
     ]
    }
   ],
   "source": [
    "p=float(input(\"Enter Percenatge=\"))\n",
    "if p>90:\n",
    "    print(\"A grade\")\n",
    "elif p>80 and p<=90:\n",
    "    print(\"B grade\")\n",
    "elif p>=60 and p<=80:\n",
    "    print(\"C grade\")\n",
    "else:\n",
    "    print(\"D grade\")"
   ]
  },
  {
   "cell_type": "markdown",
   "id": "918020ac",
   "metadata": {},
   "source": [
    "### 2"
   ]
  },
  {
   "cell_type": "code",
   "execution_count": 5,
   "id": "ef44fc06",
   "metadata": {},
   "outputs": [
    {
     "name": "stdout",
     "output_type": "stream",
     "text": [
      "Enter the cost of the bike=60000\n",
      "Tax to be paid= 6000.0\n"
     ]
    }
   ],
   "source": [
    "c=float(input(\"Enter the cost of the bike=\"))\n",
    "if c>100000:\n",
    "    print(\"Tax to be paid=\",15*c/100)\n",
    "elif c>50000 and c<=100000:\n",
    "    print(\"Tax to be paid=\",10*c/100)\n",
    "else:\n",
    "    print(\"Tax to be paid=\",5*c/100)"
   ]
  },
  {
   "cell_type": "markdown",
   "id": "6fdbce87",
   "metadata": {},
   "source": [
    "### 3"
   ]
  },
  {
   "cell_type": "code",
   "execution_count": 6,
   "id": "e8da58bd",
   "metadata": {},
   "outputs": [
    {
     "name": "stdout",
     "output_type": "stream",
     "text": [
      "Enter the city=Agra\n",
      "Monument: Taj Mahal\n"
     ]
    }
   ],
   "source": [
    "d={'Delhi':'Red Fort','Agra':'Taj Mahal','Jaipur':'Jal Mahal'}\n",
    "n=str(input(\"Enter the city=\"))\n",
    "print('Monument:',d[n])"
   ]
  },
  {
   "cell_type": "markdown",
   "id": "05a65611",
   "metadata": {},
   "source": [
    "### 4"
   ]
  },
  {
   "cell_type": "code",
   "execution_count": 8,
   "id": "7e31fddb",
   "metadata": {},
   "outputs": [
    {
     "name": "stdout",
     "output_type": "stream",
     "text": [
      "Enter a number=120\n",
      "No.of times divided= 3\n"
     ]
    }
   ],
   "source": [
    "n=int(input(\"Enter a number=\"))\n",
    "count=0\n",
    "while n>10:\n",
    "    count+=1\n",
    "    n=n//3\n",
    "print(\"No.of times divided=\",count)"
   ]
  },
  {
   "cell_type": "markdown",
   "id": "733f116e",
   "metadata": {},
   "source": [
    "### 5"
   ]
  },
  {
   "cell_type": "markdown",
   "id": "f4506193",
   "metadata": {},
   "source": [
    "A while loop in Python is used to repeatedly execute a block of code as long as a specified condition is true. It allows you to create loops that continue running until a certain condition is no longer met. The while loop is particularly useful when you need to perform an action repeatedly without knowing in advance how many iterations will be required.\n",
    "\n",
    "**When**\n",
    "\n",
    "- Iterating Until a Condition is Met\n",
    "- Processing Data with Unknown Length\n",
    "- Creating Infinite Loops\n",
    "- Numerical Computations\n"
   ]
  },
  {
   "cell_type": "markdown",
   "id": "7496f713",
   "metadata": {},
   "source": [
    "### 6"
   ]
  },
  {
   "cell_type": "code",
   "execution_count": 9,
   "id": "21d6f437",
   "metadata": {},
   "outputs": [
    {
     "name": "stdout",
     "output_type": "stream",
     "text": [
      "Enter no of lines=7\n",
      "* \n",
      "* * \n",
      "* * * \n",
      "* * * * \n",
      "* * * * * \n",
      "* * * * * * \n",
      "* * * * * * * \n"
     ]
    }
   ],
   "source": [
    "n=int(input(\"Enter no of lines=\"))\n",
    "i=1\n",
    "while i<=n:\n",
    "    j=1\n",
    "    while j<=i:\n",
    "        print('*',end=' ')\n",
    "        j=j+1\n",
    "    print()\n",
    "    i=i+1"
   ]
  },
  {
   "cell_type": "code",
   "execution_count": 11,
   "id": "11cbd6f0",
   "metadata": {},
   "outputs": [
    {
     "name": "stdout",
     "output_type": "stream",
     "text": [
      "Enter no of lines=7\n",
      "$ $ $ $ $ $ $ \n",
      "$ $ $ $ $ $ \n",
      "$ $ $ $ $ \n",
      "$ $ $ $ \n",
      "$ $ $ \n",
      "$ $ \n",
      "$ \n"
     ]
    }
   ],
   "source": [
    "n=int(input(\"Enter no of lines=\"))\n",
    "i=n\n",
    "while i>=1:\n",
    "    j=1\n",
    "    while j<=i:\n",
    "        print('$',end=' ')\n",
    "        j=j+1\n",
    "    print()\n",
    "    i=i-1"
   ]
  },
  {
   "cell_type": "code",
   "execution_count": 28,
   "id": "aa7e3788",
   "metadata": {},
   "outputs": [
    {
     "name": "stdout",
     "output_type": "stream",
     "text": [
      "Enter no of lines=8\n",
      "@ @ @ @ @ @ @ @ \n",
      "  @ @ @ @ @ @ @ \n",
      "    @ @ @ @ @ @ \n",
      "      @ @ @ @ @ \n",
      "        @ @ @ @ \n",
      "          @ @ @ \n",
      "            @ @ \n",
      "              @ \n"
     ]
    }
   ],
   "source": [
    "n=int(input(\"Enter no of lines=\"))\n",
    "i=n\n",
    "while i>=1:\n",
    "    j=1\n",
    "    m=n-i+1\n",
    "    while j<m:\n",
    "        print(' ',end=' ')\n",
    "        j+=1\n",
    "    k=1\n",
    "    while k<=i:\n",
    "        print('@',end=' ')\n",
    "        k+=1\n",
    "    print()\n",
    "    i=i-1"
   ]
  },
  {
   "cell_type": "markdown",
   "id": "297e8e18",
   "metadata": {},
   "source": [
    "### 7"
   ]
  },
  {
   "cell_type": "code",
   "execution_count": 31,
   "id": "bf3c2f81",
   "metadata": {},
   "outputs": [
    {
     "name": "stdout",
     "output_type": "stream",
     "text": [
      "10 9 8 7 6 5 4 3 2 1 "
     ]
    }
   ],
   "source": [
    "i=10\n",
    "while i>=1:\n",
    "    print(i,end=' ')\n",
    "    i-=1"
   ]
  },
  {
   "cell_type": "markdown",
   "id": "59fa9d11",
   "metadata": {},
   "source": [
    "### 8"
   ]
  },
  {
   "cell_type": "code",
   "execution_count": 32,
   "id": "78999aa3",
   "metadata": {},
   "outputs": [
    {
     "name": "stdout",
     "output_type": "stream",
     "text": [
      "10 9 8 7 6 5 4 3 2 1 "
     ]
    }
   ],
   "source": [
    "i=10\n",
    "while i>=1:\n",
    "    print(i,end=' ')\n",
    "    i-=1"
   ]
  },
  {
   "cell_type": "code",
   "execution_count": null,
   "id": "f3e2f4d7",
   "metadata": {},
   "outputs": [],
   "source": []
  }
 ],
 "metadata": {
  "kernelspec": {
   "display_name": "Python 3 (ipykernel)",
   "language": "python",
   "name": "python3"
  },
  "language_info": {
   "codemirror_mode": {
    "name": "ipython",
    "version": 3
   },
   "file_extension": ".py",
   "mimetype": "text/x-python",
   "name": "python",
   "nbconvert_exporter": "python",
   "pygments_lexer": "ipython3",
   "version": "3.11.0"
  }
 },
 "nbformat": 4,
 "nbformat_minor": 5
}
