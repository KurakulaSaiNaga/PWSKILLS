{
 "cells": [
  {
   "cell_type": "markdown",
   "id": "87fb0f45",
   "metadata": {},
   "source": [
    "### 1"
   ]
  },
  {
   "cell_type": "markdown",
   "id": "36d2d003",
   "metadata": {},
   "source": [
    "Estimation statistics is a branch of statistics that deals with the process of making educated guesses or inferences about population parameters based on sample data. In other words, it involves using information from a sample to estimate unknown population parameters. Two common concepts in estimation statistics are point estimates and interval estimates:\n",
    "\n",
    "1. Point Estimate:\n",
    "   - A point estimate is a single value that is used to estimate a population parameter, such as the mean, variance, or proportion.\n",
    "   - It is typically calculated based on sample data and provides a single, best guess for the value of the parameter.\n",
    "   - For example, if you want to estimate the average height of adults in a certain city, you might take a sample of individuals and calculate the sample mean height. This sample mean would be a point estimate of the population mean height.\n",
    "\n",
    "\n",
    "2. Interval Estimate:\n",
    "   - An interval estimate, also known as a confidence interval, provides a range of values within which the true population parameter is likely to fall, along with a degree of confidence or probability associated with this interval.\n",
    "   - Unlike a point estimate, which only provides a single value, an interval estimate gives a range of possible values.\n",
    "   - Interval estimates are more informative than point estimates because they provide a measure of uncertainty about the parameter estimate.\n",
    "   - Confidence intervals are commonly used in interval estimation. For example, you might calculate a 95% confidence interval for the average salary of employees in a company. This interval would give you a range of salaries within which you are 95% confident that the true population average lies.\n",
    "\n",
    "The process of estimating population parameters involves using statistical methods and formulas, such as the sample mean, sample variance, and sample proportions, to calculate point estimates. Confidence intervals, on the other hand, involve determining the range of values around the point estimate that is likely to contain the true parameter value, based on the characteristics of the sample and the chosen level of confidence.\n",
    "\n",
    "Interval estimates are valuable because they provide a measure of the uncertainty associated with the estimation process, allowing researchers, analysts, and decision-makers to make more informed decisions and draw more reliable conclusions about populations based on sample data."
   ]
  },
  {
   "cell_type": "markdown",
   "id": "d884134f",
   "metadata": {},
   "source": [
    "### 2"
   ]
  },
  {
   "cell_type": "code",
   "execution_count": 2,
   "id": "9bc13b03",
   "metadata": {},
   "outputs": [
    {
     "name": "stdout",
     "output_type": "stream",
     "text": [
      "Sample Mean: 50.0\n",
      "Population Mean Estimate: 50.0\n",
      "95% Confidence Interval: (48.04003601545995, 51.95996398454005)\n"
     ]
    }
   ],
   "source": [
    "import scipy.stats as stats\n",
    "import math\n",
    "\n",
    "def estimate_population_mean(sample_mean, sample_stddev, sample_size, confidence_level=0.95):\n",
    "    # Calculate the critical value based on the confidence level\n",
    "    z_critical = stats.norm.ppf((1 + confidence_level) / 2)  # Two-tailed test\n",
    "\n",
    "    # Calculate the margin of error\n",
    "    margin_of_error = z_critical * (sample_stddev / math.sqrt(sample_size))\n",
    "\n",
    "    # Calculate the confidence interval\n",
    "    lower_bound = sample_mean - margin_of_error\n",
    "    upper_bound = sample_mean + margin_of_error\n",
    "\n",
    "    return sample_mean, lower_bound, upper_bound\n",
    "\n",
    "# Example usage:\n",
    "sample_mean = 50.0\n",
    "sample_stddev = 10.0\n",
    "sample_size = 100\n",
    "confidence_level = 0.95\n",
    "\n",
    "mean_estimate, lower_bound, upper_bound = estimate_population_mean(sample_mean, sample_stddev, sample_size, confidence_level)\n",
    "\n",
    "print(f\"Sample Mean: {sample_mean}\")\n",
    "print(f\"Population Mean Estimate: {mean_estimate}\")\n",
    "print(f\"95% Confidence Interval: ({lower_bound}, {upper_bound})\")\n"
   ]
  },
  {
   "cell_type": "markdown",
   "id": "e2f8298a",
   "metadata": {},
   "source": [
    "### 3"
   ]
  },
  {
   "cell_type": "markdown",
   "id": "e2f9ad18",
   "metadata": {},
   "source": [
    "Hypothesis testing is a fundamental concept in statistics and scientific research used to make decisions or draw conclusions about population parameters based on sample data. It involves the systematic process of formulating and testing hypotheses about a population characteristic, such as its mean, variance, proportion, or some other parameter. Hypothesis testing is widely used in various fields, including science, engineering, medicine, social sciences, and business.\n",
    "\n",
    "Here's how hypothesis testing works:\n",
    "\n",
    "1. **Formulating Hypotheses**:\n",
    "   - The process begins with the formulation of two mutually exclusive hypotheses:\n",
    "     - **Null Hypothesis (H0)**: This is a statement of no effect or no difference. It represents the status quo or the assumption that there is no significant change or relationship in the population.\n",
    "     - **Alternative Hypothesis (Ha or H1)**: This is the hypothesis that researchers want to support or find evidence for. It represents the claim or the assertion of a significant effect, difference, or relationship in the population.\n",
    "\n",
    "2. **Collecting Data**:\n",
    "   - Researchers collect sample data through experiments, surveys, or observations.\n",
    "\n",
    "3. **Statistical Analysis**:\n",
    "   - Statistical methods are used to analyze the sample data and calculate a test statistic.\n",
    "\n",
    "4. **Making a Decision**:\n",
    "   - The test statistic is compared to a critical value or p-value to determine whether there is enough evidence to reject the null hypothesis in favor of the alternative hypothesis.\n",
    "   - If the evidence is strong enough, you reject the null hypothesis. If not, you fail to reject it.\n",
    "\n",
    "5. **Drawing Conclusions**:\n",
    "   - Based on the decision in step 4, researchers draw conclusions about the population characteristic being studied.\n",
    "   - If the null hypothesis is rejected, it suggests that there is evidence for the alternative hypothesis, indicating a significant effect or relationship.\n",
    "   - If the null hypothesis is not rejected, it suggests that there is insufficient evidence to support the alternative hypothesis.\n",
    "\n",
    "Importance of Hypothesis Testing:\n",
    "\n",
    "1. **Scientific Rigor**: Hypothesis testing provides a systematic and rigorous framework for making decisions in scientific research. It ensures that conclusions are based on evidence and not on mere intuition or anecdotal observations.\n",
    "\n",
    "2. **Informed Decision-Making**: In fields such as medicine, business, and policy-making, hypothesis testing helps stakeholders make informed decisions. For example, it is used to determine the effectiveness of a new drug or the impact of a marketing campaign.\n",
    "\n",
    "3. **Statistical Inference**: Hypothesis testing is a cornerstone of statistical inference, allowing researchers to generalize findings from a sample to a larger population. This is crucial for drawing meaningful and generalizable conclusions.\n",
    "\n",
    "4. **Quantifying Uncertainty**: Hypothesis testing provides a measure of uncertainty by calculating p-values or confidence intervals. This helps researchers understand the reliability and significance of their results.\n",
    "\n",
    "5. **Quality Control**: In manufacturing and quality control, hypothesis testing is used to ensure that products meet certain standards and specifications.\n",
    "\n",
    "6. **Continuous Improvement**: It plays a role in continuous improvement processes, such as Six Sigma, where data-driven decision-making is essential for reducing defects and improving processes.\n"
   ]
  },
  {
   "cell_type": "markdown",
   "id": "bda2977a",
   "metadata": {},
   "source": [
    "### 4"
   ]
  },
  {
   "cell_type": "markdown",
   "id": "ade6bc39",
   "metadata": {},
   "source": [
    "Null Hypothesis (H0): The average weight of male college students is equal to or less than the average weight of female college students.\n",
    "\n",
    "Alternative Hypothesis (Ha or H1): The average weight of male college students is greater than the average weight of female college students.\n",
    "\n",
    "In symbols:\n",
    "\n",
    "H0: μ_male <= μ_female\n",
    "\n",
    "Ha: μ_male > μ_female\n",
    "\n",
    "In this hypothesis:\n",
    "\n",
    "\"μ_male\" represents the population mean weight of male college students.\n",
    "\n",
    "\"μ_female\" represents the population mean weight of female college students.\n",
    "\n",
    "You would then collect data on the weights of male and female college students, calculate the sample means for both groups, and perform a hypothesis test, such as a t-test or a z-test, to determine whether there is enough statistical evidence to reject the null hypothesis in favor of the alternative hypothesis. The results of the test will help you draw conclusions about whether there is a significant difference in the average weights between the two groups."
   ]
  },
  {
   "cell_type": "markdown",
   "id": "0dccaf7b",
   "metadata": {},
   "source": [
    "### 5"
   ]
  },
  {
   "cell_type": "code",
   "execution_count": 3,
   "id": "0b4d2a70",
   "metadata": {},
   "outputs": [
    {
     "name": "stdout",
     "output_type": "stream",
     "text": [
      "Test Statistic: 2.881214116430439\n",
      "P-value: 0.009940364291050718\n",
      "Result: Reject null hypothesis\n"
     ]
    }
   ],
   "source": [
    "import numpy as np\n",
    "from scipy import stats\n",
    "\n",
    "def two_sample_t_test(sample1, sample2, alpha=0.05):\n",
    "    # Calculate sample statistics\n",
    "    n1 = len(sample1)\n",
    "    n2 = len(sample2)\n",
    "    mean1 = np.mean(sample1)\n",
    "    mean2 = np.mean(sample2)\n",
    "    var1 = np.var(sample1, ddof=1)\n",
    "    var2 = np.var(sample2, ddof=1)\n",
    "    \n",
    "    # Calculate pooled standard deviation\n",
    "    pooled_std = np.sqrt((var1/n1) + (var2/n2))\n",
    "    \n",
    "    # Calculate test statistic\n",
    "    t_stat = (mean1 - mean2) / pooled_std\n",
    "    \n",
    "    # Degrees of freedom\n",
    "    df = n1 + n2 - 2\n",
    "    \n",
    "    # Calculate p-value\n",
    "    p_value = 2 * (1 - stats.t.cdf(abs(t_stat), df))\n",
    "    \n",
    "    # Determine whether to reject the null hypothesis\n",
    "    if p_value < alpha:\n",
    "        result = \"Reject null hypothesis\"\n",
    "    else:\n",
    "        result = \"Fail to reject null hypothesis\"\n",
    "    \n",
    "    return t_stat, p_value, result\n",
    "\n",
    "# Example usage\n",
    "sample1 = np.array([68, 72, 65, 74, 70, 68, 75, 72, 70, 71])\n",
    "sample2 = np.array([63, 67, 62, 70, 68, 65, 72, 68, 66, 65])\n",
    "\n",
    "alpha = 0.05\n",
    "\n",
    "t_statistic, p_value, result = two_sample_t_test(sample1, sample2, alpha)\n",
    "\n",
    "print(f\"Test Statistic: {t_statistic}\")\n",
    "print(f\"P-value: {p_value}\")\n",
    "print(f\"Result: {result}\")\n"
   ]
  },
  {
   "cell_type": "markdown",
   "id": "494344dd",
   "metadata": {},
   "source": [
    "### 6"
   ]
  },
  {
   "cell_type": "markdown",
   "id": "ff4a2e72",
   "metadata": {},
   "source": [
    "Null Hypothesis (H0) and Alternative Hypothesis (Ha) are fundamental concepts in hypothesis testing, a statistical method used to make inferences about populations based on sample data. These hypotheses are used to define the research question and formulate testable statements. Here's an explanation of both with some examples:\n",
    "\n",
    "**Null Hypothesis (H0):**\n",
    "- The null hypothesis represents the default or status quo assumption. It states that there is no significant effect, no difference, or no relationship in the population.\n",
    "- It is often denoted as H0 and is used as a starting point for hypothesis testing.\n",
    "- In statistical notation, the null hypothesis typically contains an equality symbol (e.g., =, ≤, or ≥) because it represents a lack of change or effect.\n",
    "\n",
    "Examples of null hypotheses:\n",
    "1. The mean IQ score of students who receive a special math tutoring program is equal to 100 (H0: μ = 100).\n",
    "2. There is no difference in the average lifespan between people who exercise regularly and those who do not (H0: μ1 = μ2).\n",
    "3. The new manufacturing process does not reduce the defect rate in the production of electronic components (H0: p ≤ 0.10, where p represents the proportion of defective components).\n",
    "\n",
    "**Alternative Hypothesis (Ha or H1):**\n",
    "- The alternative hypothesis is what researchers aim to demonstrate or find evidence for in a hypothesis test.\n",
    "- It represents a claim or assertion that there is a significant effect, difference, or relationship in the population.\n",
    "- The alternative hypothesis is denoted as Ha or sometimes as H1.\n",
    "\n",
    "Examples of alternative hypotheses (paired with the above null hypotheses):\n",
    "1. Ha: The mean IQ score of students who receive a special math tutoring program is greater than 100 (Ha: μ > 100).\n",
    "2. Ha: There is a difference in the average lifespan between people who exercise regularly and those who do not (Ha: μ1 ≠ μ2).\n",
    "3. Ha: The new manufacturing process reduces the defect rate in the production of electronic components (Ha: p < 0.10).\n",
    "\n",
    "In hypothesis testing, the goal is to collect sample data and perform statistical tests to determine whether there is enough evidence to reject the null hypothesis in favor of the alternative hypothesis. The choice of null and alternative hypotheses depends on the research question and the specific hypotheses being tested. Researchers use statistical methods to analyze data and draw conclusions about the population based on the results of hypothesis tests."
   ]
  },
  {
   "cell_type": "markdown",
   "id": "3b15f7ab",
   "metadata": {},
   "source": [
    "### 7"
   ]
  },
  {
   "cell_type": "markdown",
   "id": "3f55c286",
   "metadata": {},
   "source": [
    "Hypothesis testing is a systematic process used in statistics to make inferences about population parameters based on sample data. Here are the key steps involved in hypothesis testing:\n",
    "\n",
    "1. **Formulate Hypotheses**:\n",
    "   - State the null hypothesis (H0) and the alternative hypothesis (Ha or H1).\n",
    "   - H0 represents the default assumption, while Ha represents the claim or effect you want to test.\n",
    "   - Formulate the hypotheses based on your research question and the specific parameter you want to test (e.g., means, variances, proportions).\n",
    "\n",
    "2. **Collect Data**:\n",
    "   - Collect a representative sample from the population of interest.\n",
    "   - Ensure that the data collection process is random and unbiased to obtain reliable results.\n",
    "\n",
    "3. **Choose a Significance Level (α)**:\n",
    "   - Decide on the significance level (α), often set to 0.05 (5%) by convention.\n",
    "   - α represents the probability of making a Type I error (rejecting the null hypothesis when it is true).\n",
    "   - The chosen significance level determines the critical region for the test.\n",
    "\n",
    "4. **Perform a Statistical Test**:\n",
    "   - Select an appropriate statistical test based on the data type, sample size, and research question. Common tests include t-tests, chi-square tests, ANOVA, and z-tests, among others.\n",
    "   - Calculate the test statistic (e.g., t-statistic, z-statistic, F-statistic) based on the sample data.\n",
    "\n",
    "5. **Determine the Critical Region**:\n",
    "   - Determine the critical value(s) or critical region based on the chosen significance level (α) and the test's distribution (e.g., t-distribution, normal distribution).\n",
    "   - The critical region represents extreme values of the test statistic that would lead to the rejection of the null hypothesis.\n",
    "\n",
    "6. **Calculate the Test Statistic**:\n",
    "   - Calculate the test statistic based on the sample data and the formula specific to the chosen test.\n",
    "\n",
    "7. **Compare the Test Statistic to Critical Values**:\n",
    "   - Compare the calculated test statistic to the critical value(s) from step 5.\n",
    "   - If the test statistic falls within the critical region, reject the null hypothesis.\n",
    "   - If the test statistic falls outside the critical region, fail to reject the null hypothesis.\n",
    "\n",
    "8. **Calculate the P-value**:\n",
    "   - Calculate the p-value associated with the test statistic.\n",
    "   - The p-value represents the probability of obtaining a test statistic as extreme as, or more extreme than, the observed one, assuming the null hypothesis is true.\n",
    "   \n",
    "9. **Make a Decision**:\n",
    "   - Based on the comparison between the test statistic and the critical value(s) or the p-value:\n",
    "     - If p-value ≤ α, reject the null hypothesis.\n",
    "     - If p-value > α, fail to reject the null hypothesis.\n",
    "   - State the conclusion in plain language based on your decision.\n",
    "\n",
    "10. **Draw Conclusions**:\n",
    "    - Interpret the results in the context of the research question and the hypotheses.\n",
    "    - Discuss the practical significance of the findings.\n",
    "    - Consider the implications for the population.\n",
    "\n",
    "11. **Report Results**:\n",
    "    - Present the results of the hypothesis test in a clear and concise manner.\n",
    "    - Include relevant summary statistics, the test statistic, the critical values, the p-value, and the conclusion.\n",
    "\n",
    "12. **Make Recommendations** (if applicable):\n",
    "    - If the null hypothesis is rejected, consider making recommendations or decisions based on the findings.\n",
    "\n",
    "Hypothesis testing is a structured approach to drawing conclusions from data, helping researchers make informed decisions and contribute to scientific knowledge."
   ]
  },
  {
   "cell_type": "markdown",
   "id": "7f467d64",
   "metadata": {},
   "source": [
    "### 8"
   ]
  },
  {
   "cell_type": "markdown",
   "id": "043e9564",
   "metadata": {},
   "source": [
    "The p-value, short for \"probability value,\" is a fundamental concept in hypothesis testing within statistics. It quantifies the strength of evidence against the null hypothesis (H0) based on the sample data. The p-value represents the probability of observing a test statistic as extreme as, or more extreme than, the one calculated from the data, assuming that the null hypothesis is true.\n",
    "\n",
    "Here's an explanation of the significance of p-values in hypothesis testing:\n",
    "\n",
    "1. **Interpreting the p-value**:\n",
    "   - A small p-value (typically less than the chosen significance level, α) suggests strong evidence against the null hypothesis. It implies that the observed data is unlikely to occur if the null hypothesis is true.\n",
    "   - A large p-value, on the other hand, suggests weak evidence against the null hypothesis. It implies that the observed data is reasonably likely to occur even if the null hypothesis is true.\n",
    "   \n",
    "2. **Decision Rule**:\n",
    "   - In hypothesis testing, you compare the p-value to the chosen significance level (α), also known as the \"alpha level.\"\n",
    "   - If p-value ≤ α, you reject the null hypothesis, indicating that there is strong evidence to support the alternative hypothesis (Ha).\n",
    "   - If p-value > α, you fail to reject the null hypothesis, indicating that there is insufficient evidence to support the alternative hypothesis.\n",
    "\n",
    "3. **Significance Level (α)**:\n",
    "   - The significance level, often set to 0.05 (5%) by convention, represents the maximum acceptable probability of making a Type I error (false positive). It determines the threshold for what is considered statistically significant.\n",
    "   - Researchers can adjust the significance level based on the specific context and the desired level of confidence.\n",
    "\n",
    "4. **Strength of Evidence**:\n",
    "   - A smaller p-value indicates stronger evidence against the null hypothesis and suggests that the observed effect is likely real and not due to random chance.\n",
    "   - Conversely, a larger p-value suggests weaker evidence and implies that the observed effect may be due to chance variability.\n",
    "\n",
    "5. **Practical Significance vs. Statistical Significance**:\n",
    "   - It's important to consider both practical significance and statistical significance when interpreting p-values.\n",
    "   - While a result may be statistically significant (i.e., p-value is small), it may not be practically significant if the effect size is trivial or not meaningful in the real world.\n",
    "   - Researchers should assess the magnitude of the effect in addition to the p-value.\n",
    "\n",
    "6. **Context Matters**:\n",
    "   - The interpretation of p-values should always be done in the context of the specific research question and the null and alternative hypotheses.\n",
    "   - A p-value alone does not provide a complete picture, and it should be considered alongside other relevant information.\n"
   ]
  },
  {
   "cell_type": "markdown",
   "id": "c95fb763",
   "metadata": {},
   "source": [
    "### 9"
   ]
  },
  {
   "cell_type": "code",
   "execution_count": 4,
   "id": "3facc1de",
   "metadata": {},
   "outputs": [
    {
     "data": {
      "image/png": "[encoded data removed]",
      "text/plain": [
       "<Figure size 800x600 with 1 Axes>"
      ]
     },
     "metadata": {},
     "output_type": "display_data"
    }
   ],
   "source": [
    "import numpy as np\n",
    "import matplotlib.pyplot as plt\n",
    "import scipy.stats as stats\n",
    "\n",
    "# Define the degrees of freedom\n",
    "df = 10\n",
    "\n",
    "# Generate x-values for the plot\n",
    "x = np.linspace(-4, 4, 1000)  # Adjust the range as needed\n",
    "\n",
    "# Calculate the probability density function (PDF) for the t-distribution\n",
    "pdf = stats.t.pdf(x, df)\n",
    "\n",
    "# Create a plot\n",
    "plt.figure(figsize=(8, 6))\n",
    "plt.plot(x, pdf, label=f\"t-distribution (df={df})\")\n",
    "\n",
    "# Add labels and a legend\n",
    "plt.xlabel(\"X\")\n",
    "plt.ylabel(\"Probability Density\")\n",
    "plt.title(f\"Student's t-distribution (df={df})\")\n",
    "plt.legend()\n",
    "\n",
    "# Show the plot\n",
    "plt.grid(True)\n",
    "plt.show()\n"
   ]
  },
  {
   "cell_type": "markdown",
   "id": "df33b6d7",
   "metadata": {},
   "source": [
    "### 10"
   ]
  },
  {
   "cell_type": "code",
   "execution_count": 5,
   "id": "1ca47608",
   "metadata": {},
   "outputs": [
    {
     "name": "stdout",
     "output_type": "stream",
     "text": [
      "Null Hypothesis: Population means are equal (H0)\n",
      "Sample Size: 30\n",
      "Sample 1 Mean: 0.44285644726317464\n",
      "Sample 2 Mean: -0.2895218561539812\n",
      "T-statistic: 2.804041400098036\n",
      "P-value: 0.006854000433094982\n",
      "Result: Reject null hypothesis at alpha = 0.05\n"
     ]
    }
   ],
   "source": [
    "import numpy as np\n",
    "from scipy import stats\n",
    "\n",
    "# Generate two random samples of equal size\n",
    "np.random.seed(0)  # For reproducibility\n",
    "sample_size = 30  # You can change this to your desired sample size\n",
    "sample1 = np.random.randn(sample_size)\n",
    "sample2 = np.random.randn(sample_size)\n",
    "\n",
    "# Define the null hypothesis (H0): Population means are equal\n",
    "null_hypothesis = \"Population means are equal (H0)\"\n",
    "\n",
    "# Perform a two-sample t-test\n",
    "t_statistic, p_value = stats.ttest_ind(sample1, sample2)\n",
    "\n",
    "# Set the significance level (alpha)\n",
    "alpha = 0.05  # You can change this to your desired alpha level\n",
    "\n",
    "# Print the results\n",
    "print(\"Null Hypothesis:\", null_hypothesis)\n",
    "print(\"Sample Size:\", sample_size)\n",
    "print(\"Sample 1 Mean:\", np.mean(sample1))\n",
    "print(\"Sample 2 Mean:\", np.mean(sample2))\n",
    "print(\"T-statistic:\", t_statistic)\n",
    "print(\"P-value:\", p_value)\n",
    "\n",
    "# Determine whether to reject the null hypothesis\n",
    "if p_value < alpha:\n",
    "    print(f\"Result: Reject null hypothesis at alpha = {alpha}\")\n",
    "else:\n",
    "    print(f\"Result: Fail to reject null hypothesis at alpha = {alpha}\")\n"
   ]
  },
  {
   "cell_type": "markdown",
   "id": "ad3dad30",
   "metadata": {},
   "source": [
    "### 11"
   ]
  },
  {
   "cell_type": "markdown",
   "id": "1e956a68",
   "metadata": {},
   "source": [
    "Student's t-distribution, often simply referred to as the t-distribution, is a probability distribution that is used in statistics for making inferences about population parameters when the sample size is small and the population standard deviation is unknown. It was introduced by William Sealy Gosset in 1908, which is why it is also known as the \"Student's t-distribution.\"\n",
    "\n",
    "Key characteristics of the t-distribution include:\n",
    "\n",
    "1. **Shape**: The t-distribution is bell-shaped and symmetric, much like the normal (Gaussian) distribution. However, it has heavier tails, meaning that it has more probability in the tails and is less peaked at the mean.\n",
    "\n",
    "2. **Parameter**: The shape of the t-distribution depends on a single parameter called the degrees of freedom (df). The degrees of freedom determine the specific t-distribution. As the degrees of freedom increase, the t-distribution approaches the shape of the normal distribution.\n",
    "\n",
    "When to Use the t-Distribution:\n",
    "\n",
    "The t-distribution is used in the following situations:\n",
    "\n",
    "1. **Small Sample Sizes**: When you have a small sample size (typically less than 30) and you want to make inferences about the population mean. In such cases, the normal distribution is not appropriate because it assumes knowledge of the population standard deviation, which is often unknown.\n",
    "\n",
    "2. **Unknown Population Standard Deviation**: When the population standard deviation is unknown, and you need to estimate it from the sample standard deviation. The t-distribution accounts for the additional uncertainty introduced by estimating the standard deviation.\n",
    "\n",
    "3. **Hypothesis Testing for Means**: In hypothesis testing when comparing means of two samples or when conducting one-sample t-tests. The t-distribution provides critical values for determining statistical significance.\n",
    "\n",
    "4. **Confidence Intervals**: When constructing confidence intervals for the population mean. The t-distribution is used to account for the uncertainty in the estimation process.\n",
    "\n",
    "5. **Quality Control**: In manufacturing and quality control, especially when dealing with small sample sizes. The t-distribution helps assess whether a process is within specified limits.\n",
    "\n",
    "6. **Biostatistics and Medical Research**: In medical and biostatistical studies, where sample sizes are often limited, and population standard deviations may not be known.\n",
    "\n"
   ]
  },
  {
   "cell_type": "markdown",
   "id": "117eae73",
   "metadata": {},
   "source": [
    "### 12"
   ]
  },
  {
   "cell_type": "markdown",
   "id": "4b086839",
   "metadata": {},
   "source": [
    "The t-statistic, also known as the Student's t-statistic, is a measure used in hypothesis testing to determine if there is a significant difference between the sample mean and a known or hypothesized population mean. It quantifies how many standard errors the sample mean is away from the hypothesized population mean. The t-statistic follows a t-distribution, which accounts for the uncertainty introduced by estimating the population standard deviation from the sample.\n",
    "\n",
    "The formula for the t-statistic when comparing a sample mean to a hypothesized population mean is as follows:\n",
    "\n",
    "\\[ t = \\frac{{\\bar{x} - \\mu}}{{s / \\sqrt{n}}} \\]\n",
    "\n",
    "Where:\n",
    "- \\( t \\) is the t-statistic.\n",
    "- \\( \\bar{x} \\) is the sample mean.\n",
    "- \\( \\mu \\) is the hypothesized population mean (the mean under the null hypothesis).\n",
    "- \\( s \\) is the sample standard deviation.\n",
    "- \\( n \\) is the sample size.\n",
    "\n",
    "In this formula, the numerator (\\( \\bar{x} - \\mu \\)) represents the difference between the sample mean and the hypothesized population mean. The denominator (\\( s / \\sqrt{n} \\)) standardizes this difference by dividing it by the standard error of the sample mean (\\( s / \\sqrt{n} \\)), which takes into account the sample size and the sample standard deviation.\n",
    "\n",
    "The t-statistic is then compared to critical values from the t-distribution to determine the statistical significance of the difference between the sample mean and the hypothesized population mean. If the t-statistic is sufficiently large (i.e., it falls in the tails of the t-distribution), it suggests that the difference is statistically significant, and the null hypothesis is rejected.\n",
    "\n",
    "The critical values depend on the chosen significance level (\\( \\alpha \\)) and the degrees of freedom (\\( df \\)), which are determined by the sample size. Typically, smaller sample sizes result in larger t-statistic values required for rejection, reflecting the increased uncertainty associated with smaller samples."
   ]
  },
  {
   "cell_type": "markdown",
   "id": "3a2d0ab8",
   "metadata": {},
   "source": [
    "### 13"
   ]
  },
  {
   "cell_type": "markdown",
   "id": "136cf454",
   "metadata": {},
   "source": [
    "To estimate the population mean revenue with a 95% confidence interval, you can use the formula for the confidence interval of the mean when the population standard deviation is known. In this case, it's known that the sample standard deviation is $50.\n",
    "\n",
    "The formula for the confidence interval is:\n",
    "\n",
    "Confidence Interval = ( {Sample Mean} - Z \\times \\frac{{Sample Standard Deviation}}{\\sqrt{{Sample Size}}}, Sample Mean + Z \\times \\frac{{Sample Standard Deviation}}{\\sqrt{{Sample Size}}})\n",
    "\n",
    "Where:\n",
    "- Sample Mean (( \\bar{x})) = $500\n",
    "\n",
    "- Sample Standard Deviation (s) = $50\n",
    "- Sample Size (n) = 50\n",
    "- Z is the critical value from the standard normal distribution corresponding to the desired confidence level. For a 95% confidence interval, Z is approximately 1.96.\n",
    "\n",
    "Now, plug in the values into the formula:\n",
    "\n",
    "Confidence Interval = ( 500 - 1.96 \\times \\frac{50}{\\sqrt{50}}, 500 + 1.96 \\times \\frac{50}{\\sqrt{50}})\n",
    "\n",
    "Calculating the values:\n",
    "\n",
    "confidence Interval = ( 500 - 13.96, 500 + 13.96) \n",
    "\n",
    "So, the 95% confidence interval for the population mean revenue is approximately:\n",
    "\n",
    "Confidence Interval = (486.04, 513.96)\n",
    "\n",
    "Therefore, you can estimate with 95% confidence that the population mean daily revenue for the coffee shop falls within the range of $486.04 to $513.96."
   ]
  },
  {
   "cell_type": "markdown",
   "id": "3a342e96",
   "metadata": {},
   "source": [
    "### 14"
   ]
  },
  {
   "cell_type": "markdown",
   "id": "8485770c",
   "metadata": {},
   "source": [
    "To test the hypothesis that a new drug decreases blood pressure by 10 mmHg, you can perform a one-sample t-test. The null hypothesis (H0) would be that the drug has no effect, which means that the population mean decrease in blood pressure (\\( \\mu \\)) is equal to 10 mmHg. The alternative hypothesis (Ha) would be that the drug does have an effect, meaning that \\( \\mu \\) is not equal to 10 mmHg.\n",
    "\n",
    "Here are the details of the test:\n",
    "\n",
    "- Null Hypothesis (H0): \\( \\mu = 10 \\) mmHg\n",
    "- Alternative Hypothesis (Ha): \\( \\mu \\neq 10 \\) mmHg\n",
    "\n",
    "Given:\n",
    "- Sample Mean (\\( \\bar{x} \\)): 8 mmHg\n",
    "- Sample Standard Deviation (\\( s \\)): 3 mmHg\n",
    "- Sample Size (\\( n \\)): 100\n",
    "- Significance Level (\\( \\alpha \\)): 0.05\n",
    "\n",
    "You can perform the one-sample t-test as follows:\n",
    "\n",
    "1. Calculate the t-statistic using the formula:\n",
    "\n",
    "\\[ t = \\frac{{\\bar{x} - \\mu}}{{s / \\sqrt{n}}} \\]\n",
    "\n",
    "2. Determine the degrees of freedom (\\( df \\)) which is equal to \\( n - 1 \\).\n",
    "\n",
    "3. Find the critical t-values corresponding to a two-tailed test with \\( \\alpha/2 \\) on each tail and \\( df \\) degrees of freedom. For a significance level of 0.05 and \\( df = 99 \\), you can use a t-table or a t-distribution calculator to find the critical values. The critical values for a two-tailed test with \\( \\alpha/2 = 0.025 \\) would be approximately \\( \\pm 1.984 \\).\n",
    "\n",
    "4. Compare the calculated t-statistic to the critical values:\n",
    "   - If \\( |t| > 1.984 \\), then reject the null hypothesis.\n",
    "   - If \\( |t| \\leq 1.984 \\), then fail to reject the null hypothesis.\n",
    "\n",
    "Now, let's calculate the t-statistic:\n",
    "\n",
    "\\[ t = \\frac{{8 - 10}}{{3 / \\sqrt{100}}} = \\frac{{-2}}{{0.3}} = -6.67 \\]\n",
    "\n",
    "The critical values for a two-tailed test with \\( \\alpha/2 = 0.025 \\) and \\( df = 99 \\) are approximately \\( \\pm 1.984 \\).\n",
    "\n",
    "Since \\( |t| = 6.67 > 1.984 \\), we can reject the null hypothesis.\n",
    "\n",
    "Conclusion:\n",
    "At a significance level of 0.05, there is enough evidence to conclude that the new drug does have an effect on decreasing blood pressure because the sample mean decrease in blood pressure is significantly different from 10 mmHg."
   ]
  },
  {
   "cell_type": "markdown",
   "id": "9a301c25",
   "metadata": {},
   "source": [
    "### 15"
   ]
  },
  {
   "cell_type": "markdown",
   "id": "c440c934",
   "metadata": {},
   "source": [
    "To test the hypothesis that the true mean weight of the products is less than 5 pounds, you can perform a one-sample t-test for a population mean with a left-tailed test. Here are the details of the test:\n",
    "\n",
    "- Null Hypothesis (H0): The true mean weight (\\( \\mu \\)) is equal to 5 pounds.\n",
    "- Alternative Hypothesis (Ha): The true mean weight (\\( \\mu \\)) is less than 5 pounds.\n",
    "\n",
    "Given information:\n",
    "- Population Mean (\\( \\mu \\)): 5 pounds\n",
    "- Population Standard Deviation (\\( \\sigma \\)): 0.5 pounds\n",
    "- Sample Mean (\\( \\bar{x} \\)): 4.8 pounds\n",
    "- Sample Size (\\( n \\)): 25\n",
    "- Significance Level (\\( \\alpha \\)): 0.01 (left-tailed test)\n",
    "\n",
    "To perform the one-sample t-test:\n",
    "\n",
    "1. Calculate the t-statistic using the formula:\n",
    "\n",
    "\\[ t = \\frac{{\\bar{x} - \\mu}}{{s / \\sqrt{n}}} \\]\n",
    "\n",
    "Where \\( s \\) is the sample standard deviation.\n",
    "\n",
    "2. Determine the degrees of freedom (\\( df \\)), which is equal to \\( n - 1 \\).\n",
    "\n",
    "3. Find the critical t-value for a left-tailed test with \\( \\alpha = 0.01 \\) and \\( df = 24 \\). You can use a t-table or a t-distribution calculator to find the critical value. For a significance level of 0.01 and \\( df = 24 \\), the critical t-value is approximately -2.492.\n",
    "\n",
    "4. Compare the calculated t-statistic to the critical t-value:\n",
    "   - If \\( t < -2.492 \\), then reject the null hypothesis.\n",
    "   - If \\( t \\geq -2.492 \\), then fail to reject the null hypothesis.\n",
    "\n",
    "Now, let's calculate the t-statistic:\n",
    "\n",
    "\\[ t = \\frac{{4.8 - 5}}{{0.5 / \\sqrt{25}}} = \\frac{{-0.2}}{{0.1}} = -2.0 \\]\n",
    "\n",
    "The critical t-value for a left-tailed test with \\( \\alpha = 0.01 \\) and \\( df = 24 \\) is approximately -2.492.\n",
    "\n",
    "Since \\( t = -2.0 \\) is greater than -2.492, we fail to reject the null hypothesis.\n",
    "\n",
    "Conclusion:\n",
    "\n",
    "At a significance level of 0.01, there is not enough evidence to conclude that the true mean weight of the products is less than 5 pounds."
   ]
  },
  {
   "cell_type": "markdown",
   "id": "9ab13182",
   "metadata": {},
   "source": [
    "### 16"
   ]
  },
  {
   "cell_type": "markdown",
   "id": "8f4214a4",
   "metadata": {},
   "source": [
    "To test the hypothesis that the population means for the two groups are equal, you can perform a two-sample t-test for independent samples. Here are the details of the test:\n",
    "\n",
    "- Null Hypothesis (H0): The population means of the two groups are equal (\\( \\mu_1 = \\mu_2 \\)).\n",
    "- Alternative Hypothesis (Ha): The population means of the two groups are not equal (\\( \\mu_1 \\neq \\mu_2 \\)).\n",
    "\n",
    "Given information for Group 1:\n",
    "- Sample Mean (\\( \\bar{x}_1 \\)): 80\n",
    "- Sample Standard Deviation (\\( s_1 \\)): 10\n",
    "- Sample Size (\\( n_1 \\)): 30\n",
    "\n",
    "Given information for Group 2:\n",
    "- Sample Mean (\\( \\bar{x}_2 \\)): 75\n",
    "- Sample Standard Deviation (\\( s_2 \\)): 8\n",
    "- Sample Size (\\( n_2 \\)): 40\n",
    "\n",
    "Significance Level (\\( \\alpha \\)): 0.01 (two-tailed test)\n",
    "\n",
    "To perform the two-sample t-test:\n",
    "\n",
    "1. Calculate the pooled standard deviation (\\( s_p \\)) using the formula:\n",
    "\n",
    "\\[ s_p = \\sqrt{\\frac{{(n_1 - 1) \\cdot s_1^2 + (n_2 - 1) \\cdot s_2^2}}{{n_1 + n_2 - 2}}} \\]\n",
    "\n",
    "2. Calculate the t-statistic using the formula:\n",
    "\n",
    "\\[ t = \\frac{{\\bar{x}_1 - \\bar{x}_2}}{{s_p \\cdot \\sqrt{\\frac{1}{n_1} + \\frac{1}{n_2}}}} \\]\n",
    "\n",
    "3. Determine the degrees of freedom (\\( df \\)), which is \\( n_1 + n_2 - 2 \\).\n",
    "\n",
    "4. Find the critical t-value for a two-tailed test with \\( \\alpha/2 = 0.005 \\) and the degrees of freedom (\\( df \\)). You can use a t-table or a t-distribution calculator to find the critical value.\n",
    "\n",
    "5. Compare the calculated t-statistic to the critical t-value:\n",
    "   - If \\( |t| > \\text{critical t-value} \\), then reject the null hypothesis.\n",
    "   - If \\( |t| \\leq \\text{critical t-value} \\), then fail to reject the null hypothesis.\n",
    "\n",
    "Now, let's perform the calculations:\n",
    "\n",
    "Pooled standard deviation (\\( s_p \\)):\n",
    "\n",
    "\\[ s_p = \\sqrt{\\frac{{(30 - 1) \\cdot 10^2 + (40 - 1) \\cdot 8^2}}{{30 + 40 - 2}}} = \\sqrt{\\frac{{2900 + 3120}}{{68}}} = \\sqrt{\\frac{6020}{68}} \\approx 8.94 \\]\n",
    "\n",
    "T-statistic (\\( t \\)):\n",
    "\n",
    "\\[ t = \\frac{{80 - 75}}{{8.94 \\cdot \\sqrt{\\frac{1}{30} + \\frac{1}{40}}}} \\approx \\frac{5}{8.94 \\cdot 0.2582} \\approx 7.25 \\]\n",
    "\n",
    "Degrees of freedom (\\( df \\)): \\( 30 + 40 - 2 = 68 \\)\n",
    "\n",
    "Critical t-value for a two-tailed test with \\( \\alpha/2 = 0.005 \\) and \\( df = 68 \\) (using a t-table or calculator): Approximately \\( \\pm 2.660 \\)\n",
    "\n",
    "Since \\( |t| = 7.25 > 2.660 \\), we can reject the null hypothesis.\n",
    "\n",
    "Conclusion:\n",
    "At a significance level of 0.01, there is enough evidence to conclude that the population means of the two groups are not equal."
   ]
  },
  {
   "cell_type": "markdown",
   "id": "b26858d0",
   "metadata": {},
   "source": [
    "### 17"
   ]
  },
  {
   "cell_type": "markdown",
   "id": "cb4f1b59",
   "metadata": {},
   "source": [
    "To estimate the population mean number of ads watched by viewers during a TV program with a 99% confidence interval, you can use the formula for the confidence interval of the mean when the population standard deviation is unknown. In this case, it's known that the sample standard deviation is 1.5.\n",
    "\n",
    "The formula for the confidence interval is:\n",
    "\n",
    "Confidence Interval = ({Sample Mean} - Z \\times \\frac{\\text{Sample Standard Deviation}}{\\sqrt{{Sample Size}}}, {Sample Mean} + Z \\times \\frac{{Sample Standard Deviation}}{\\sqrt{{Sample Size}}}\n",
    "\n",
    "Where:\n",
    "- Sample Mean (bar{x}): 4\n",
    "- Sample Standard Deviation ( s ): 1.5\n",
    "- Sample Size (n ): 50\n",
    "- Z  is the critical value from the standard normal distribution corresponding to the desired confidence level. For a 99% confidence interval,  Z  is approximately 2.576 (you can find this value from a standard normal distribution table or calculator).\n",
    "\n",
    "Now, plug in the values into the formula:\n",
    "\n",
    "Confidence Interval = ( 4 - 2.576 \\times \\frac{1.5}{\\sqrt{50}}, 4 + 2.576 \\times \\frac{1.5}{\\sqrt{50}}\n",
    "\n",
    "Calculating the values:\n",
    "\n",
    "Confidence Interval = ( 4 - 0.545, 4 + 0.545)\n",
    "\n",
    "So, the 99% confidence interval for the population mean number of ads watched by viewers during a TV program is approximately:\n",
    "\n",
    "Confidence Interval = (3.455, 4.545)\n",
    "\n",
    "Therefore, you can estimate with 99% confidence that the population mean number of ads watched falls within the range of 3.455 to 4.545."
   ]
  },
  {
   "cell_type": "code",
   "execution_count": null,
   "id": "1ab31b65",
   "metadata": {},
   "outputs": [],
   "source": []
  }
 ],
 "metadata": {
  "kernelspec": {
   "display_name": "Python 3 (ipykernel)",
   "language": "python",
   "name": "python3"
  },
  "language_info": {
   "codemirror_mode": {
    "name": "ipython",
    "version": 3
   },
   "file_extension": ".py",
   "mimetype": "text/x-python",
   "name": "python",
   "nbconvert_exporter": "python",
   "pygments_lexer": "ipython3",
   "version": "3.11.0"
  }
 },
 "nbformat": 4,
 "nbformat_minor": 5
}
