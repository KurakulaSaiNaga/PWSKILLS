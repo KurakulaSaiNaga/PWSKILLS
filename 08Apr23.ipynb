{
 "cells": [
  {
   "cell_type": "markdown",
   "id": "a8fb55a7-4adc-4c5c-8b61-5557f8fcf6b6",
   "metadata": {},
   "source": [
    "## 1\n",
    "\n",
    "When predicting house prices based on several characteristics using an SVM regression model, the best regression metric would generally be **Mean Absolute Error (MAE)**. MAE is suitable because it measures the average magnitude of the errors in a set of predictions, without considering their direction. It is straightforward to interpret and is not as sensitive to outliers as Mean Squared Error (MSE).\n",
    "\n",
    "## 2\n",
    "\n",
    "If your goal is to predict the actual price of a house as accurately as possible, **Mean Squared Error (MSE)** would be more appropriate. MSE gives more weight to larger errors because it squares them, thus penalizing larger errors more than smaller ones. This makes it a good choice when the accuracy of the predictions is critical.\n",
    "\n",
    "## 3\n",
    "\n",
    "For a dataset with a significant number of outliers, **Mean Absolute Error (MAE)** is the most appropriate metric. MAE is less sensitive to outliers compared to MSE because it does not square the errors. This makes it a more robust measure of model performance in the presence of outliers.\n",
    "\n",
    "## 4\n",
    "\n",
    "When both MSE and RMSE values are very close, it indicates that the errors are relatively small and the difference between the squared errors and the original errors is minimal. In this case, **Root Mean Squared Error (RMSE)** might be more intuitive to use because it has the same units as the target variable (house price). This can make it easier to interpret and communicate the model's performance.\n",
    "\n",
    "## 5\n",
    "\n",
    "When comparing the performance of different SVM regression models using different kernels (linear, polynomial, and RBF), and your goal is to measure how well the model explains the variance in the target variable, **R-squared** (also known as the coefficient of determination) is the most appropriate metric. R-squared provides a measure of how well the observed outcomes are replicated by the model, as the proportion of total variation of outcomes explained by the model.\n"
   ]
  },
  {
   "cell_type": "markdown",
   "id": "cc6c698d-51a1-4d2b-8243-8922f006e247",
   "metadata": {},
   "source": []
  }
 ],
 "metadata": {
  "kernelspec": {
   "display_name": "Python 3 (ipykernel)",
   "language": "python",
   "name": "python3"
  },
  "language_info": {
   "codemirror_mode": {
    "name": "ipython",
    "version": 3
   },
   "file_extension": ".py",
   "mimetype": "text/x-python",
   "name": "python",
   "nbconvert_exporter": "python",
   "pygments_lexer": "ipython3",
   "version": "3.11.4"
  }
 },
 "nbformat": 4,
 "nbformat_minor": 5
}
