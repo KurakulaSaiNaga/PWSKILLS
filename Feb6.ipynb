{
 "cells": [
  {
   "cell_type": "markdown",
   "id": "b4ef9234",
   "metadata": {},
   "source": [
    "### 1"
   ]
  },
  {
   "cell_type": "code",
   "execution_count": 12,
   "id": "2cf5bb85",
   "metadata": {},
   "outputs": [
    {
     "name": "stdout",
     "output_type": "stream",
     "text": [
      "[1, 2, 3, 4, 44, 55, 66, 34, 56, 78, 89, 34, 1, 2, 3, 1, 4, 34, 55, 67, 78, 89, 45, 22, 61, 34, 56]\n",
      "Product= 4134711838987085478833841242112000\n"
     ]
    }
   ],
   "source": [
    "from functools import reduce\n",
    "k=[]\n",
    "def flat_list(l):\n",
    "    for i in l:\n",
    "        if str(i).isdigit():\n",
    "            k.append(i)\n",
    "        elif type(i)==list or type(i)==tuple or type(i)==set:\n",
    "            for j in i:\n",
    "                if type(j)==int:\n",
    "                    k.append(j)\n",
    "        elif type(i)==dict:\n",
    "            for key in i.keys():\n",
    "                if type(key)==int:\n",
    "                    k.append(key)\n",
    "                elif type(key)!=str:\n",
    "                    flat_list(key)\n",
    "            for value in i.values():\n",
    "                if type(value)==int:\n",
    "                    k.append(value)\n",
    "                elif type(key)!=str:\n",
    "                    flat_list(value)\n",
    "        else:\n",
    "            continue\n",
    "    return k\n",
    "p=flat_list([1,2,3,4, [44,55,66, True], False, (34,56,78,89,34), {1,2,3,3,2,1}, {1:34, \"key2\": [55, 67, 78, 89], 4: (45,\n",
    "22, 61, 34)}, [56, 'data science'], 'Machine Learning'])\n",
    "print(p)\n",
    "fl=reduce(lambda a,b:a*b,p)\n",
    "print('Product=',fl)"
   ]
  },
  {
   "cell_type": "markdown",
   "id": "6bca1741",
   "metadata": {},
   "source": [
    "### 2"
   ]
  },
  {
   "cell_type": "code",
   "execution_count": 13,
   "id": "dddac577",
   "metadata": {},
   "outputs": [
    {
     "name": "stdout",
     "output_type": "stream",
     "text": [
      "after encryption= r$dzmg$gl$yvxlnv$z$wzgz$hxrvmgrhg\n"
     ]
    }
   ],
   "source": [
    "import string\n",
    "s='I want to become a Data Scientist'\n",
    "s=s.lower()\n",
    "m=string.ascii_lowercase\n",
    "k=''\n",
    "for i in s:\n",
    "    if i==' ':\n",
    "        k+='$'\n",
    "    else:\n",
    "        k+=chr(122-m.index(i))\n",
    "print('after encryption=',k)"
   ]
  },
  {
   "cell_type": "code",
   "execution_count": null,
   "id": "79e842b4",
   "metadata": {},
   "outputs": [],
   "source": []
  }
 ],
 "metadata": {
  "kernelspec": {
   "display_name": "Python 3 (ipykernel)",
   "language": "python",
   "name": "python3"
  },
  "language_info": {
   "codemirror_mode": {
    "name": "ipython",
    "version": 3
   },
   "file_extension": ".py",
   "mimetype": "text/x-python",
   "name": "python",
   "nbconvert_exporter": "python",
   "pygments_lexer": "ipython3",
   "version": "3.11.0"
  }
 },
 "nbformat": 4,
 "nbformat_minor": 5
}
