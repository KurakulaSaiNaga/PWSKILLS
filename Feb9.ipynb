{
 "cells": [
  {
   "cell_type": "markdown",
   "id": "0eaddc94",
   "metadata": {},
   "source": [
    "### 1"
   ]
  },
  {
   "cell_type": "code",
   "execution_count": 3,
   "id": "9daf4535",
   "metadata": {},
   "outputs": [
    {
     "name": "stdout",
     "output_type": "stream",
     "text": [
      "BMW\n",
      "250\n",
      "100\n"
     ]
    }
   ],
   "source": [
    "class vehicle:\n",
    "    def __init__(self,name_of_vehicle, max_speed,average_of_vehicle):\n",
    "        self.name_of_vehicle=name_of_vehicle\n",
    "        self.max_speed=max_speed\n",
    "        self.average_of_vehicle=average_of_vehicle\n",
    "car=vehicle(\"BMW\",250,100)\n",
    "print(car.name_of_vehicle)\n",
    "print(car.max_speed)\n",
    "print(car.average_of_vehicle)"
   ]
  },
  {
   "cell_type": "markdown",
   "id": "cda9133a",
   "metadata": {},
   "source": [
    "### 2"
   ]
  },
  {
   "cell_type": "code",
   "execution_count": 14,
   "id": "d852b6fc",
   "metadata": {},
   "outputs": [],
   "source": [
    "class vehicle:\n",
    "    def __init__(self,name_of_vehicle, max_speed,average_of_vehicle):\n",
    "        self.name_of_vehicle=name_of_vehicle\n",
    "        self.max_speed=max_speed\n",
    "        self.average_of_vehicle=average_of_vehicle\n",
    "class car(vehicle):\n",
    "    def __init__(self,name_of_vehicle, max_speed,average_of_vehicle):\n",
    "        vehicle.__init__(self,name_of_vehicle, max_speed,average_of_vehicle)\n",
    "    def seating_capacity(self,capacity):\n",
    "        return self.name_of_vehicle,capacity"
   ]
  },
  {
   "cell_type": "code",
   "execution_count": 17,
   "id": "8f44a03c",
   "metadata": {},
   "outputs": [
    {
     "name": "stdout",
     "output_type": "stream",
     "text": [
      "Name: BMW\n",
      "Capacity: 5\n"
     ]
    }
   ],
   "source": [
    "c=car(\"BMW\",250,100)\n",
    "a,b=c.seating_capacity(5)\n",
    "print(\"Name:\",a)\n",
    "print(\"Capacity:\",b)"
   ]
  },
  {
   "cell_type": "markdown",
   "id": "0b2d6ec7",
   "metadata": {},
   "source": [
    "### 3"
   ]
  },
  {
   "cell_type": "markdown",
   "id": "049b37c8",
   "metadata": {},
   "source": [
    "The process of getting the properties and behaviours from more than one super class to one child class is called Multiple Inheritance."
   ]
  },
  {
   "cell_type": "code",
   "execution_count": 30,
   "id": "6a1ed044",
   "metadata": {},
   "outputs": [],
   "source": [
    "## program to demonstrate multiple inheritance\n",
    "class Sailors:\n",
    "    def __init__(self,sid,sname,age):\n",
    "        self.sid=sid\n",
    "        self.sname=sname\n",
    "        self.age=age\n",
    "    def display(self):\n",
    "        pass\n",
    "class Boats:\n",
    "    def __init__(self,bid,bname):\n",
    "        self.bid=bid\n",
    "        self.bname=bname\n",
    "class Sail_Boat(Sailors,Boats):\n",
    "    def __init__(self,sid,sname,age,bid,bname):\n",
    "        Sailors.__init__(self,sid,sname,age)\n",
    "        Boats.__init__(self,bid,bname)\n",
    "    def display(self):\n",
    "        return self.sid,self.sname,self.age,self.bid,self.bname"
   ]
  },
  {
   "cell_type": "code",
   "execution_count": 31,
   "id": "3f3c5a66",
   "metadata": {},
   "outputs": [
    {
     "data": {
      "text/plain": [
       "(7768, 'Veeru', 32, 101, 'Interlake')"
      ]
     },
     "execution_count": 31,
     "metadata": {},
     "output_type": "execute_result"
    }
   ],
   "source": [
    "s=Sail_Boat(7768,\"Veeru\",32,101,\"Interlake\")\n",
    "s.display()"
   ]
  },
  {
   "cell_type": "markdown",
   "id": "fafd9c8a",
   "metadata": {},
   "source": [
    "### 4"
   ]
  },
  {
   "cell_type": "markdown",
   "id": "61e63ba8",
   "metadata": {},
   "source": [
    "In Python, getters and setters are methods used to access and modify the attributes (instance variables) of a class.\n",
    "\n",
    " **Getter:**\n",
    "\n",
    "Getter methods are used to retrieve the values of attributes.\n",
    "\n",
    " **Setter:**\n",
    "\n",
    "Setter methods are used to modify or set the values of attributes."
   ]
  },
  {
   "cell_type": "code",
   "execution_count": 33,
   "id": "2d60a73e",
   "metadata": {},
   "outputs": [
    {
     "name": "stdout",
     "output_type": "stream",
     "text": [
      "Name: Venu\n",
      "Age: 30\n",
      "Name: Vijay\n",
      "Age: 40\n"
     ]
    }
   ],
   "source": [
    "class Person:\n",
    "    def __init__(self, name, age):\n",
    "        self.__name = name\n",
    "        self.__age = age\n",
    "    # Getter method for name\n",
    "    def get_name(self):\n",
    "        return self.__name\n",
    "    # Setter method for name\n",
    "    def set_name(self, new_name):\n",
    "        if isinstance(new_name, str):\n",
    "            self.__name = new_name\n",
    "        else:\n",
    "            print(\"Name must be a string.\")\n",
    "    # Getter method for age\n",
    "    def get_age(self):\n",
    "        return self.__age\n",
    "    # Setter method for age\n",
    "    def set_age(self, new_age):\n",
    "        if isinstance(new_age, int) and new_age >= 0:\n",
    "            self.__age = new_age\n",
    "        else:\n",
    "            print(\"Age must be a non-negative integer.\")\n",
    "# Creating an instance of the Person class\n",
    "person = Person(\"Venu\", 30)\n",
    "# Using getter methods to access attributes\n",
    "print(\"Name:\", person.get_name())\n",
    "print(\"Age:\", person.get_age())\n",
    "# Using setter methods to modify attributes\n",
    "person.set_name(\"Vijay\")\n",
    "person.set_age(40)\n",
    "print(\"Name:\", person.get_name())\n",
    "print(\"Age:\", person.get_age())\n"
   ]
  },
  {
   "cell_type": "markdown",
   "id": "b2481ae9",
   "metadata": {},
   "source": [
    "### 5"
   ]
  },
  {
   "cell_type": "markdown",
   "id": "627817f4",
   "metadata": {},
   "source": [
    "- Method overriding in Python refers to the practice of providing a new implementation for a method in a subclass that already exists in its parent class.\n",
    "- That is providing a new implementation for that method multiple times in its subclasses with the same name and with the same number of parameters"
   ]
  },
  {
   "cell_type": "code",
   "execution_count": 35,
   "id": "8dd6e0c8",
   "metadata": {},
   "outputs": [
    {
     "name": "stdout",
     "output_type": "stream",
     "text": [
      "BMW\n",
      "AUDI\n"
     ]
    }
   ],
   "source": [
    "class Car1:\n",
    "    def __init__(self,name):\n",
    "        self.name=name\n",
    "    def display(self):\n",
    "        return self.name\n",
    "class Car2:\n",
    "    def __init__(self,name):\n",
    "        self.name=name\n",
    "    def display(self):\n",
    "        return self.name\n",
    "a=Car1(\"BMW\")\n",
    "print(a.display())\n",
    "b=Car2(\"AUDI\")\n",
    "print(b.display())"
   ]
  },
  {
   "cell_type": "code",
   "execution_count": null,
   "id": "9eb3da1e",
   "metadata": {},
   "outputs": [],
   "source": []
  }
 ],
 "metadata": {
  "kernelspec": {
   "display_name": "Python 3 (ipykernel)",
   "language": "python",
   "name": "python3"
  },
  "language_info": {
   "codemirror_mode": {
    "name": "ipython",
    "version": 3
   },
   "file_extension": ".py",
   "mimetype": "text/x-python",
   "name": "python",
   "nbconvert_exporter": "python",
   "pygments_lexer": "ipython3",
   "version": "3.11.0"
  }
 },
 "nbformat": 4,
 "nbformat_minor": 5
}
