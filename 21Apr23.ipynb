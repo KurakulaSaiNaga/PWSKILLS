{
 "cells": [
  {
   "cell_type": "markdown",
   "id": "241ab35f",
   "metadata": {},
   "source": [
    "## 1\n",
    "\n",
    "- The main difference between Euclidean distance and Manhattan distance lies in how they calculate distance between two points:\n",
    "  - Euclidean distance: Measures the straight-line distance between two points in Euclidean space.\n",
    "  - Manhattan distance: Measures the distance between two points by summing the absolute differences of their coordinates.\n",
    "- This difference affects the shape of the neighborhood in KNN. Euclidean distance considers diagonal distances, while Manhattan distance considers only horizontal and vertical distances. Depending on the data distribution and features, one distance metric might be more suitable than the other. For example, if features have different units or scales, Manhattan distance might be preferred.\n",
    "\n",
    "## 2\n",
    "\n",
    "- Choosing the optimal value of k in KNN involves a trade-off between bias and variance.\n",
    "- Techniques for determining the optimal k value include:\n",
    "  - Cross-validation: Splitting the data into training and validation sets and selecting the value of k that yields the best performance on the validation set.\n",
    "  - Grid search: Trying a range of k values and selecting the one with the highest performance metric.\n",
    "  - Domain knowledge: Considering the characteristics of the problem domain to choose a reasonable value of k.\n",
    "\n",
    "## 3\n",
    "\n",
    "- The choice of distance metric can significantly impact the performance of KNN.\n",
    "- Euclidean distance is sensitive to magnitudes and scales of features, while Manhattan distance is less sensitive.\n",
    "- Euclidean distance works well for continuous data with features of similar importance and scale, while Manhattan distance might be more suitable for categorical data or data with features of different importance.\n",
    "\n",
    "## 4\n",
    "\n",
    "- Common hyperparameters in KNN include k (number of neighbors), distance metric, and weighting scheme.\n",
    "- The choice of k affects the bias-variance trade-off, while the distance metric and weighting scheme affect how distances are calculated and aggregated.\n",
    "- Tuning these hyperparameters involves experimenting with different values using techniques like cross-validation or grid search to find the combination that yields the best performance.\n",
    "\n",
    "## 5\n",
    "\n",
    "- The size of the training set can affect the performance of KNN. A larger training set can lead to more representative neighborhood information and better generalization.\n",
    "- Techniques for optimizing the size of the training set include:\n",
    "  - Cross-validation: Using subsets of the training data for training and validation to estimate performance.\n",
    "  - Incremental learning: Adding new data to the training set as it becomes available to adapt the model over time.\n",
    "  - Data augmentation: Generating synthetic data to increase the size of the training set.\n",
    "\n",
    "## 6\n",
    "\n",
    "- Drawbacks of KNN include:\n",
    "  - Computational inefficiency for large datasets or high-dimensional data.\n",
    "  - Sensitivity to the choice of k, distance metric, and weighting scheme.\n",
    "  - Imbalanced data can affect performance.\n",
    "- To overcome these drawbacks, techniques such as dimensionality reduction, distance metric optimization, weighting schemes, and handling imbalanced data can be employed. Additionally, using approximate nearest neighbor algorithms or ensemble methods can improve efficiency and robustness."
   ]
  },
  {
   "cell_type": "code",
   "execution_count": null,
   "id": "c19b1b17",
   "metadata": {},
   "outputs": [],
   "source": []
  }
 ],
 "metadata": {
  "kernelspec": {
   "display_name": "Python 3 (ipykernel)",
   "language": "python",
   "name": "python3"
  },
  "language_info": {
   "codemirror_mode": {
    "name": "ipython",
    "version": 3
   },
   "file_extension": ".py",
   "mimetype": "text/x-python",
   "name": "python",
   "nbconvert_exporter": "python",
   "pygments_lexer": "ipython3",
   "version": "3.11.0"
  }
 },
 "nbformat": 4,
 "nbformat_minor": 5
}
