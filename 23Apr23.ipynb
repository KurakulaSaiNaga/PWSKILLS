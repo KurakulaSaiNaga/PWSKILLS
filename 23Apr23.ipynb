{
 "cells": [
  {
   "cell_type": "markdown",
   "id": "e65d0c57",
   "metadata": {},
   "source": [
    "### 1"
   ]
  },
  {
   "cell_type": "markdown",
   "id": "3b8af9b4",
   "metadata": {},
   "source": [
    "Curse Of Dimensionality is a common problem in machine learning where the performance of the model degrades with increase in the\n",
    "number of features/dimensions.It occurs when dealing with higher dimensional data.Here the model is overfeeded.\n",
    "\n",
    "There are two different ways to remove curse of dimensionality:\n",
    "- Feature Selection\n",
    "- Dimensionality Reduction(Feature Extraction)\n",
    "\n",
    "Dimensionality reduction reduces the number of features in the datatset which helps to improve the performance of the model.It\n",
    "becomes easier to visualise the data and understand the data when reduced to lower dimensional like 2-D or 3-D."
   ]
  },
  {
   "cell_type": "markdown",
   "id": "9b70e1d0",
   "metadata": {},
   "source": [
    "### 2"
   ]
  },
  {
   "cell_type": "markdown",
   "id": "93bbf9d8",
   "metadata": {},
   "source": [
    "Curse Of Dimensionality can impact on the performance of the machine learning algorithms in the following ways:\n",
    "- Overfitting\n",
    "- Increase Computational time\n",
    "- Visualization problem\n",
    "- Requires high storage\n",
    "- Presence of unnecessary features in the dataset leads to degrades the performance of the model"
   ]
  },
  {
   "cell_type": "markdown",
   "id": "768df5a9",
   "metadata": {},
   "source": [
    "### 3"
   ]
  },
  {
   "cell_type": "markdown",
   "id": "ce7bf0f9",
   "metadata": {},
   "source": [
    "Consequences of curse of dimensionality:\n",
    "- Overfitting\n",
    "- Increase Computational time\n",
    "- Visualization problem\n",
    "- Requires high storage\n",
    "- Presence of unnecessary features in the dataset leads to degrades the performance of the model\n",
    "\n",
    "It impacts on models performance in such a way that the performance of the model degrades as the number of features/dimensions\n",
    "increases."
   ]
  },
  {
   "cell_type": "markdown",
   "id": "9a257402",
   "metadata": {},
   "source": [
    "### 4"
   ]
  },
  {
   "cell_type": "markdown",
   "id": "0d68ed29",
   "metadata": {},
   "source": [
    "Feature Selection is a technique of selecting the most relevant features from the original dataset by discarding the irrelevant\n",
    "features.The goal is to improve the performance of the model by taking the features which are important for the prediction.\n",
    "\n",
    "Benefits:\n",
    "- improves models performance\n",
    "- reduce overfitting\n",
    "- increase computational speed\n",
    "- reduce computational time\n",
    "- requires low storage"
   ]
  },
  {
   "cell_type": "markdown",
   "id": "acd0a659",
   "metadata": {},
   "source": [
    "### 5"
   ]
  },
  {
   "cell_type": "markdown",
   "id": "e913ac91",
   "metadata": {},
   "source": [
    "Limitations and drawbacks of Dimensionality Reduction Techniques:\n",
    "- Information Loss\n",
    "- Curse of Dimensionality\n",
    "- Overfitting\n",
    "- Computational Complexity\n",
    "- Parameter Tuning"
   ]
  },
  {
   "cell_type": "markdown",
   "id": "c119d917",
   "metadata": {},
   "source": [
    "### 6"
   ]
  },
  {
   "cell_type": "markdown",
   "id": "50bfb35f",
   "metadata": {},
   "source": [
    "Curse Of Dimensionality is a common problem in machine learning where the performance of the model degrades with increase in the\n",
    "number of features/dimensions.When the number of dimensions are increasing it leads to the problem of overfitting.So to overcome\n",
    "this problem we use dimensionality reduction techniques.When the dimensions are reducing too far it leads to the problem of\n",
    "underfitting."
   ]
  },
  {
   "cell_type": "markdown",
   "id": "8141d9ce",
   "metadata": {},
   "source": [
    "### 7"
   ]
  },
  {
   "cell_type": "markdown",
   "id": "c21a1791",
   "metadata": {},
   "source": [
    "The choice of determining the optimal number of solution when using dimensionality reduction techniques is not easy.These\n",
    "optimal number of solutions can significantly impact on the performance of the model.\n",
    "Some of the ways:\n",
    "- By doing Cross Validation\n",
    "- Hyperparamter Tuning with cross validation-GridSearch CV,Randomized Search CV\n",
    "- Feature Selection\n",
    "- Using Decision trees concept"
   ]
  },
  {
   "cell_type": "code",
   "execution_count": null,
   "id": "c7f77814",
   "metadata": {},
   "outputs": [],
   "source": []
  }
 ],
 "metadata": {
  "kernelspec": {
   "display_name": "Python 3 (ipykernel)",
   "language": "python",
   "name": "python3"
  },
  "language_info": {
   "codemirror_mode": {
    "name": "ipython",
    "version": 3
   },
   "file_extension": ".py",
   "mimetype": "text/x-python",
   "name": "python",
   "nbconvert_exporter": "python",
   "pygments_lexer": "ipython3",
   "version": "3.11.0"
  }
 },
 "nbformat": 4,
 "nbformat_minor": 5
}
