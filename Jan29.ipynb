{
 "cells": [
  {
   "cell_type": "markdown",
   "id": "07f8c25f",
   "metadata": {},
   "source": [
    "### 1"
   ]
  },
  {
   "cell_type": "markdown",
   "id": "2af5502c",
   "metadata": {},
   "source": [
    "Guido van Rossum developed python programming language"
   ]
  },
  {
   "cell_type": "markdown",
   "id": "75c6f3f2",
   "metadata": {},
   "source": [
    "### 2"
   ]
  },
  {
   "cell_type": "markdown",
   "id": "f14d46a7",
   "metadata": {},
   "source": [
    "Python is an intepreted programming language which supports Object-Oriented,Structured and GUI Programming"
   ]
  },
  {
   "cell_type": "markdown",
   "id": "022ac73f",
   "metadata": {},
   "source": [
    "### 3"
   ]
  },
  {
   "cell_type": "markdown",
   "id": "34d84d60",
   "metadata": {},
   "source": [
    "Yes,Python is case sensitive when dealing with identifiers.It matters whether we are using small letters or capital letters when we are defining variable, function, class etc."
   ]
  },
  {
   "cell_type": "code",
   "execution_count": 2,
   "id": "c1f159db",
   "metadata": {},
   "outputs": [
    {
     "name": "stdout",
     "output_type": "stream",
     "text": [
      "r= 100\n",
      "R= 200\n"
     ]
    }
   ],
   "source": [
    "# Example:\n",
    "r=100\n",
    "R=200\n",
    "print('r=',r)\n",
    "print('R=',R)"
   ]
  },
  {
   "cell_type": "markdown",
   "id": "042db814",
   "metadata": {},
   "source": [
    "### 4"
   ]
  },
  {
   "cell_type": "markdown",
   "id": "d225efab",
   "metadata": {},
   "source": [
    " .py is the correct extension for python file.\n",
    "Ex: hello.py , exam.py"
   ]
  },
  {
   "cell_type": "markdown",
   "id": "64c33908",
   "metadata": {},
   "source": [
    "### 5"
   ]
  },
  {
   "cell_type": "markdown",
   "id": "a31df740",
   "metadata": {},
   "source": [
    "Generally Python is referred as Interpreted programming language since the execution happens line-by-line.But internally \n",
    "what happens is when you want to execute a python program, first the python interpreter compiles the sourcecode into bytecode.\n",
    "Once the bytecode is generated the Python Virtual Machine(Interpreter) interprets the bytecode and executes the instruction\n",
    "line-by-line.\n",
    "So Python code is the compiled as well as interpreted."
   ]
  },
  {
   "cell_type": "markdown",
   "id": "91ce4ba2",
   "metadata": {},
   "source": [
    "### 6"
   ]
  },
  {
   "cell_type": "markdown",
   "id": "93734722",
   "metadata": {},
   "source": [
    " **Functions Definitions:**\n",
    "\n",
    "def my_function(arg1, arg2):\n",
    "\n",
    "    # Code block of the function\n",
    "    \n",
    "    result = arg1 + arg2\n",
    "    \n",
    "    return result\n",
    "\n",
    " **Conditional Statements (if-elif-else):**\n",
    "\n",
    "if condition1:\n",
    "\n",
    "    # Code block executed if condition1 is True\n",
    "    \n",
    "elif condition2:\n",
    "\n",
    "    # Code block executed if condition1 is False and condition2 is True\n",
    "    \n",
    "else:\n",
    "\n",
    "    # Code block executed if both condition1 and condition2 are False\n",
    "\n",
    " **Loops (for and while loops):**\n",
    "\n",
    "- For loop\n",
    "  \n",
    "for item in iterable:\n",
    "\n",
    "    # Code block to be executed for each item in the iterable\n",
    "\n",
    "- While loop\n",
    "  \n",
    "while condition:\n",
    "\n",
    "    # Code block executed repeatedly as long as the condition is True\n",
    "\n"
   ]
  },
  {
   "cell_type": "markdown",
   "id": "a3507ef3",
   "metadata": {},
   "source": [
    "### 7"
   ]
  },
  {
   "cell_type": "markdown",
   "id": "2b79ad73",
   "metadata": {},
   "source": [
    "'#' is used to give the single line comments in python"
   ]
  },
  {
   "cell_type": "markdown",
   "id": "9e4e79ff",
   "metadata": {},
   "source": [
    "### 8"
   ]
  },
  {
   "cell_type": "markdown",
   "id": "a494d3d2",
   "metadata": {},
   "source": [
    "function which help us to find the version of current using python:\n",
    "\n",
    "- sys.version\n",
    "\n",
    "import sys\n",
    "\n",
    "print(sys.version)"
   ]
  },
  {
   "cell_type": "markdown",
   "id": "88054331",
   "metadata": {},
   "source": [
    "### 9"
   ]
  },
  {
   "cell_type": "markdown",
   "id": "a80b72ed",
   "metadata": {},
   "source": [
    "Python supports the creation of anonymous functions at runtime using a construct called \"lambda\" functions\n",
    "\n",
    "EX:\n",
    "\n",
    "to print sum of two numbers\n",
    "\n",
    "x=lambda a,b:a+b\n",
    "\n",
    "print(x(10,20))"
   ]
  },
  {
   "cell_type": "markdown",
   "id": "a9d37875",
   "metadata": {},
   "source": [
    "### 10"
   ]
  },
  {
   "cell_type": "markdown",
   "id": "567517a1",
   "metadata": {},
   "source": [
    "In Python, PIP stands for \"Pip Installs Packages.\" \n",
    "It is a package manager used to install, upgrade, and manage external libraries and packages written in Python"
   ]
  },
  {
   "cell_type": "markdown",
   "id": "957ebf7d",
   "metadata": {},
   "source": [
    "### 11"
   ]
  },
  {
   "cell_type": "markdown",
   "id": "e84e2d30",
   "metadata": {},
   "source": [
    "**Built in functions in Python:**\n",
    "- abs()\n",
    "- round()\n",
    "- min()\n",
    "- max()\n",
    "- pow()\n",
    "- input()\n",
    "- print()\n",
    "- isinstance()\n",
    "- sorted()\n",
    "- input()\n",
    "- str()\n",
    "- len()\n",
    "- sum()\n",
    "- type()\n",
    "- id()\n",
    "- next()\n",
    "- bin()\n",
    "- range()\n",
    "- zip()"
   ]
  },
  {
   "cell_type": "markdown",
   "id": "8a168df0",
   "metadata": {},
   "source": [
    "### 12"
   ]
  },
  {
   "cell_type": "markdown",
   "id": "3b591865",
   "metadata": {},
   "source": [
    "Maximum possible length of an identifier in python is 79 characters in a single line"
   ]
  },
  {
   "cell_type": "markdown",
   "id": "2ac7e209",
   "metadata": {},
   "source": [
    "### 13"
   ]
  },
  {
   "cell_type": "markdown",
   "id": "12966b41",
   "metadata": {},
   "source": [
    "**Benefits of using Python:**\n",
    "- Open Source\n",
    "- Easy to read and learn\n",
    "- Rich Standard Libraries\n",
    "- Portability\n",
    "- Dynamically Typed\n",
    "- Visualizations\n",
    "- Versatility\n",
    "- Performance\n",
    "- Easy to code"
   ]
  },
  {
   "cell_type": "markdown",
   "id": "99873e5e",
   "metadata": {},
   "source": [
    "### 14"
   ]
  },
  {
   "cell_type": "markdown",
   "id": "8c92f519",
   "metadata": {},
   "source": [
    "Memory management in Python involves the management of a private heap. A private heap is a portion of memory that is exclusive to the Python process. All Python objects and data structures are stored in the private heap. The operating system cannot allocate this piece of memory to another process"
   ]
  },
  {
   "cell_type": "markdown",
   "id": "2bb21e84",
   "metadata": {},
   "source": [
    "### 15"
   ]
  },
  {
   "cell_type": "markdown",
   "id": "a33e2262",
   "metadata": {},
   "source": [
    "To install Python on Windows and set the path variables, follow these steps:\n",
    "\n",
    "1. **Download Python:**\n",
    "   - Go to the official Python website: https://www.python.org/downloads/windows/\n",
    "   - Download the latest stable version of Python for Windows (e.g., Python 3.9.x).\n",
    "   - Choose the appropriate installer based on your system architecture (32-bit or 64-bit).\n",
    "\n",
    "2. **Run the Installer:**\n",
    "   - Once the download is complete, run the downloaded installer (e.g., `python-3.9.6-amd64.exe`).\n",
    "   - Make sure to check the box that says \"Add Python x.x to PATH\" during the installation process. This will automatically set the necessary environment variables for you.\n",
    "\n",
    "3. **Verify the Installation:**\n",
    "   - After the installation is complete, open a Command Prompt or PowerShell window.\n",
    "   - Type `python --version` to check if Python is installed and the version number is displayed.\n",
    "\n",
    "4. **Set Path Variables (Optional):**\n",
    "   - If you forgot to check the \"Add Python x.x to PATH\" option during installation, or if you want to verify the path settings, you can set the PATH variables manually:\n",
    "   - Search for \"Environment Variables\" in the Windows search bar and open \"Edit the system environment variables.\"\n",
    "   - Click on the \"Environment Variables\" button.\n",
    "   - Under \"System Variables,\" find the \"Path\" variable and click \"Edit.\"\n",
    "   - Click \"New\" and add the path to your Python installation directory. The default installation path is typically: `C:\\Python39` for Python 3.9 (Note: Your version number may vary).\n",
    "   - Click \"OK\" to save the changes.\n",
    "\n",
    "5. **Verify the Path Settings:**\n",
    "   - Open a new Command Prompt or PowerShell window.\n",
    "   - Type `python --version` to verify that Python is recognized and the version number is displayed.\n",
    "   - Type `python` and press Enter to enter the Python interactive shell. You should see the Python prompt (`>>>`), indicating that Python is ready to execute commands.\n",
    "\n"
   ]
  },
  {
   "cell_type": "markdown",
   "id": "80e03571",
   "metadata": {},
   "source": [
    "### 16"
   ]
  },
  {
   "cell_type": "markdown",
   "id": "00eb9cee",
   "metadata": {},
   "source": [
    "Yes,indentation is important in python.In Python, indentation plays a crucial role in determining the structure and scope of code blocks. Unlike many other programming languages that use braces or keywords to define blocks of code, Python uses indentation to represent the hierarchy of statements within a block"
   ]
  },
  {
   "cell_type": "code",
   "execution_count": null,
   "id": "c277cd6c",
   "metadata": {},
   "outputs": [],
   "source": []
  }
 ],
 "metadata": {
  "kernelspec": {
   "display_name": "Python 3 (ipykernel)",
   "language": "python",
   "name": "python3"
  },
  "language_info": {
   "codemirror_mode": {
    "name": "ipython",
    "version": 3
   },
   "file_extension": ".py",
   "mimetype": "text/x-python",
   "name": "python",
   "nbconvert_exporter": "python",
   "pygments_lexer": "ipython3",
   "version": "3.11.0"
  }
 },
 "nbformat": 4,
 "nbformat_minor": 5
}
