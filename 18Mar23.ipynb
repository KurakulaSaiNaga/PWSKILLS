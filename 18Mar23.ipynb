{
 "cells": [
  {
   "cell_type": "markdown",
   "id": "4dcc4a7b",
   "metadata": {},
   "source": [
    "### 1\n",
    "\n",
    "**Filter Method:**\n",
    "- The Filter method is a feature selection technique that assesses the intrinsic characteristics of features, independent of the machine learning model.\n",
    "- It relies on statistical measures to rank or score features based on their relevance to the target variable.\n",
    "- Common metrics used in the Filter method include correlation, mutual information, chi-squared tests, and statistical tests.\n",
    "\n",
    "### 2\n",
    "\n",
    "**Wrapper Method:**\n",
    "- The Wrapper method, unlike the Filter method, incorporates the machine learning model's performance as part of the feature selection process.\n",
    "- It evaluates subsets of features by training and testing the model with different combinations, aiming to find the optimal set that maximizes model performance.\n",
    "- Examples of Wrapper methods include Recursive Feature Elimination (RFE) and Forward Selection.\n",
    "\n",
    "### 3\n",
    "\n",
    "**Embedded Feature Selection:**\n",
    "- Embedded methods integrate feature selection as part of the model building process.\n",
    "- Common techniques include LASSO (L1 regularization), decision tree-based methods (e.g., Random Forest feature importance), and elastic net regularization.\n",
    "- Regularization techniques penalize certain features during model training, effectively selecting the most important ones.\n",
    "\n",
    "### 4\n",
    "\n",
    "**Drawbacks of the Filter Method:**\n",
    "- **Independence Assumption:** The Filter method evaluates features independently and may not consider feature interactions.\n",
    "- **Model Performance Ignorance:** It doesn't account for the model's performance during feature selection, potentially missing important feature combinations.\n",
    "- **Fixed Thresholds:** Determining an appropriate threshold for feature selection might be challenging.\n",
    "\n",
    "### 5\n",
    "\n",
    "- **Large Datasets:** The Filter method is computationally less expensive and may be preferred for large datasets where Wrapper methods might be computationally intensive.\n",
    "- **Quick Initial Screening:** Filter methods provide a quick and efficient way to identify potentially relevant features before more computationally expensive methods are employed.\n",
    "\n",
    "### 6\n",
    "\n",
    "- **Steps:**\n",
    "  1. **Data Preparation:** Preprocess the data, handle missing values, encode categorical variables.\n",
    "  2. **Calculate Relevance Scores:** Use filter methods (e.g., correlation, mutual information) to calculate relevance scores for each feature with respect to the target variable (customer churn).\n",
    "  3. **Rank Features:** Rank features based on their scores, and select the top N features with the highest relevance.\n",
    "  4. **Model Building:** Use the selected features to build a predictive model for customer churn.\n",
    "\n",
    "### 7\n",
    "\n",
    "- **Steps:**\n",
    "  1. **Data Preparation:** Preprocess the dataset, handle categorical variables, and scale numerical features.\n",
    "  2. **Select Embedded Method:** Choose an embedded method suitable for the problem, like LASSO or tree-based feature importance.\n",
    "  3. **Model Training:** Train the chosen model with the entire dataset, allowing the model to perform feature selection during training.\n",
    "  4. **Retrieve Relevant Features:** Retrieve the relevant features identified by the model.\n",
    "  5. **Model Evaluation:** Evaluate the model's performance on a validation set to ensure the selected features contribute to predictive accuracy.\n",
    "\n",
    "### 8\n",
    "\n",
    "- **Steps:**\n",
    "  1. **Data Preparation:** Clean and preprocess the data, handle missing values, encode categorical features.\n",
    "  2. **Choose Model:** Select a model suitable for regression tasks, such as linear regression.\n",
    "  3. **Select Wrapper Method:** Choose a Wrapper method like Recursive Feature Elimination (RFE).\n",
    "  4. **Feature Ranking:** Use the chosen Wrapper method to iteratively rank and eliminate features based on their impact on model performance.\n",
    "  5. **Optimal Feature Set:** Stop the process when the optimal set of features is achieved.\n",
    "  6. **Model Building:** Train the final model using the selected features and evaluate its performance."
   ]
  },
  {
   "cell_type": "code",
   "execution_count": null,
   "id": "c38e424d",
   "metadata": {},
   "outputs": [],
   "source": []
  }
 ],
 "metadata": {
  "kernelspec": {
   "display_name": "Python 3 (ipykernel)",
   "language": "python",
   "name": "python3"
  },
  "language_info": {
   "codemirror_mode": {
    "name": "ipython",
    "version": 3
   },
   "file_extension": ".py",
   "mimetype": "text/x-python",
   "name": "python",
   "nbconvert_exporter": "python",
   "pygments_lexer": "ipython3",
   "version": "3.11.0"
  }
 },
 "nbformat": 4,
 "nbformat_minor": 5
}
