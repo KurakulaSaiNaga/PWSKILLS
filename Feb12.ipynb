{
 "cells": [
  {
   "cell_type": "markdown",
   "id": "6a52689b",
   "metadata": {},
   "source": [
    "### 1"
   ]
  },
  {
   "cell_type": "markdown",
   "id": "e35cab76",
   "metadata": {},
   "source": [
    "**Exception**\n",
    "\n",
    "An exception in Python is an event that occurs during the execution of a program, disrupting the normal flow of the program's instructions. Exceptions are used to handle various types of runtime errors or exceptional situations that may occur while the program is running.\n",
    "\n",
    "Differences between Exceptions and Syntax Errors:\n",
    "    \n",
    "- Syntax Error:Syntax errors are caused by violations of the Python syntax rules.\n",
    "\n",
    " Exception:Exceptions are runtime errors that occur during the execution of a program.\n",
    "    \n",
    "- Syntax Error:Syntax errors are detected by the Python interpreter when it attempts to parse your code.\n",
    "\n",
    " Exception:Exceptions are detected during the execution of your program when a specific condition or operation that raises an exception is encountered.\n",
    "\n",
    "- Syntax Error:Syntax errors must be fixed directly in the code by correcting the syntax issues.\n",
    "\n",
    "  Exception:Exceptions can be handled using try-except blocks."
   ]
  },
  {
   "cell_type": "markdown",
   "id": "30f1c616",
   "metadata": {},
   "source": [
    "### 2"
   ]
  },
  {
   "cell_type": "markdown",
   "id": "2db8d7d3",
   "metadata": {},
   "source": [
    "- When an exception is not handled in Python, it leads to the termination of the program's normal execution. The Python interpreter prints an error message describing the exception that occurred.\n",
    "\n",
    "**Unhandled Exception:**\n",
    "\n",
    "def divide(x, y):\n",
    "\n",
    "    return x / y\n",
    "\n",
    "result = divide(10, 0) \n",
    "\n",
    "print(result) # output: gives ZeroDivisionError\n",
    "\n",
    "**Handled Exception:**\n",
    "\n",
    "try:\n",
    "\n",
    "    10/0\n",
    "    \n",
    "except:\n",
    "\n",
    "    print(\"Division cannot be possible\") #output: Division cannot be possible"
   ]
  },
  {
   "cell_type": "markdown",
   "id": "abdc9feb",
   "metadata": {},
   "source": [
    "### 3"
   ]
  },
  {
   "cell_type": "markdown",
   "id": "d054ce18",
   "metadata": {},
   "source": [
    "In python,try-except blocks are used to catch and handle the exceptions.\n",
    "- try block is used to catch the exception.\n",
    "- except block is used to handle the exception.\n",
    "\n",
    " try:\n",
    "        code that raise an exception\n",
    " except:\n",
    "        code that handles the exception"
   ]
  },
  {
   "cell_type": "code",
   "execution_count": 2,
   "id": "126c03a5",
   "metadata": {},
   "outputs": [
    {
     "name": "stdout",
     "output_type": "stream",
     "text": [
      "enter a number=13\n",
      "Error:Division By Zero\n"
     ]
    }
   ],
   "source": [
    "num=int(input('enter a number='))\n",
    "try:\n",
    "    num=num/0\n",
    "except ZeroDivisionError:\n",
    "    print(\"Error:Division By Zero\")"
   ]
  },
  {
   "cell_type": "markdown",
   "id": "3243a25b",
   "metadata": {},
   "source": [
    "### 4"
   ]
  },
  {
   "cell_type": "markdown",
   "id": "01b995a9",
   "metadata": {},
   "source": [
    "- try block used to test a block of code for errors.\n",
    "- else block used to execute code when there is no error.\n",
    "- finally block used to execute code, regardless of the result of the try- and except blocks.\n",
    "- To throw/raise an exception, use the raise keyword."
   ]
  },
  {
   "cell_type": "markdown",
   "id": "d4ca593a",
   "metadata": {},
   "source": [
    "**try-else**"
   ]
  },
  {
   "cell_type": "code",
   "execution_count": 3,
   "id": "3ebc9b71",
   "metadata": {},
   "outputs": [
    {
     "name": "stdout",
     "output_type": "stream",
     "text": [
      "else block executed\n"
     ]
    }
   ],
   "source": [
    "try:\n",
    "    a=13/5\n",
    "except:\n",
    "    print(\"except block executed\")\n",
    "else:\n",
    "    print(\"else block executed\")"
   ]
  },
  {
   "cell_type": "code",
   "execution_count": 8,
   "id": "350df560",
   "metadata": {},
   "outputs": [
    {
     "name": "stdout",
     "output_type": "stream",
     "text": [
      "except block executed\n"
     ]
    }
   ],
   "source": [
    "try:\n",
    "    a=13/0\n",
    "except:\n",
    "    print(\"except block executed\")\n",
    "else:\n",
    "    print(\"else block executed\")"
   ]
  },
  {
   "cell_type": "markdown",
   "id": "f7e61754",
   "metadata": {},
   "source": [
    "**finally**"
   ]
  },
  {
   "cell_type": "code",
   "execution_count": 6,
   "id": "5a675bde",
   "metadata": {},
   "outputs": [
    {
     "name": "stdout",
     "output_type": "stream",
     "text": [
      "except block executed\n",
      "finally block executed\n"
     ]
    }
   ],
   "source": [
    "try:\n",
    "    a=13/0\n",
    "except:\n",
    "    print(\"except block executed\")\n",
    "finally:\n",
    "    print(\"finally block executed\")"
   ]
  },
  {
   "cell_type": "code",
   "execution_count": 7,
   "id": "a8a8a9ad",
   "metadata": {},
   "outputs": [
    {
     "name": "stdout",
     "output_type": "stream",
     "text": [
      "finally block executed\n"
     ]
    }
   ],
   "source": [
    "try:\n",
    "    a=13/6\n",
    "except:\n",
    "    print(\"except block executed\")\n",
    "finally:\n",
    "    print(\"finally block executed\")"
   ]
  },
  {
   "cell_type": "markdown",
   "id": "7f23ffb8",
   "metadata": {},
   "source": [
    "**raise**"
   ]
  },
  {
   "cell_type": "code",
   "execution_count": 15,
   "id": "cfad41dc",
   "metadata": {},
   "outputs": [
    {
     "name": "stdout",
     "output_type": "stream",
     "text": [
      "enter a number=-5\n"
     ]
    },
    {
     "ename": "ValueError",
     "evalue": "Value Should not be less than 0",
     "output_type": "error",
     "traceback": [
      "\u001b[1;31m---------------------------------------------------------------------------\u001b[0m",
      "\u001b[1;31mValueError\u001b[0m                                Traceback (most recent call last)",
      "Cell \u001b[1;32mIn[15], line 4\u001b[0m\n\u001b[0;32m      2\u001b[0m num\u001b[38;5;241m=\u001b[39m\u001b[38;5;28mint\u001b[39m(\u001b[38;5;28minput\u001b[39m(\u001b[38;5;124m\"\u001b[39m\u001b[38;5;124menter a number=\u001b[39m\u001b[38;5;124m\"\u001b[39m))\n\u001b[0;32m      3\u001b[0m \u001b[38;5;28;01mif\u001b[39;00m num\u001b[38;5;241m<\u001b[39m\u001b[38;5;241m0\u001b[39m:\n\u001b[1;32m----> 4\u001b[0m     \u001b[38;5;28;01mraise\u001b[39;00m \u001b[38;5;167;01mValueError\u001b[39;00m(\u001b[38;5;124m\"\u001b[39m\u001b[38;5;124mValue Should not be less than 0\u001b[39m\u001b[38;5;124m\"\u001b[39m)\n\u001b[0;32m      5\u001b[0m \u001b[38;5;28;01melse\u001b[39;00m:\n\u001b[0;32m      6\u001b[0m     \u001b[38;5;28mprint\u001b[39m(\u001b[38;5;124m\"\u001b[39m\u001b[38;5;124msquare root is:\u001b[39m\u001b[38;5;124m\"\u001b[39m,math\u001b[38;5;241m.\u001b[39msqrt(num))\n",
      "\u001b[1;31mValueError\u001b[0m: Value Should not be less than 0"
     ]
    }
   ],
   "source": [
    "import math\n",
    "num=int(input(\"enter a number=\"))\n",
    "if num<0:\n",
    "    raise ValueError(\"Value Should not be less than 0\")\n",
    "else:\n",
    "    print(\"square root is:\",math.sqrt(num))"
   ]
  },
  {
   "cell_type": "code",
   "execution_count": 16,
   "id": "da7fa042",
   "metadata": {},
   "outputs": [
    {
     "name": "stdout",
     "output_type": "stream",
     "text": [
      "enter a number=15\n",
      "square root is: 3.872983346207417\n"
     ]
    }
   ],
   "source": [
    "import math\n",
    "num=int(input(\"enter a number=\"))\n",
    "if num<0:\n",
    "    raise ValueError(\"Value Should not be less than 0\")\n",
    "else:\n",
    "    print(\"square root is:\",math.sqrt(num))"
   ]
  },
  {
   "cell_type": "markdown",
   "id": "3513a593",
   "metadata": {},
   "source": [
    "### 5"
   ]
  },
  {
   "cell_type": "markdown",
   "id": "e3f380f0",
   "metadata": {},
   "source": [
    "- Custom exceptions in Python are user-defined exception classes that you create to handle specific types of errors or exceptional conditions that may occur in your code.\n",
    "- Suppose you're working on a banking application. In this application, you need to handle different types of account-related errors, such as insufficient balance, invalid account numbers, and more. By using custom exceptions like InsufficientBalanceError, InvalidAccountNumberError, and so on, you can clearly indicate the specific issues that occurred and handle them appropriately. This makes the code more maintainable and helps you handle errors in a way that aligns with the domain of the application."
   ]
  },
  {
   "cell_type": "code",
   "execution_count": 19,
   "id": "fe796772",
   "metadata": {},
   "outputs": [
    {
     "name": "stdout",
     "output_type": "stream",
     "text": [
      "Error: Insufficient balance of 1000 during withdrawal of 1500\n"
     ]
    }
   ],
   "source": [
    "class WithdrawalError(Exception):\n",
    "    def __init__(self, balance, amount):\n",
    "        self.balance = balance\n",
    "        self.amount = amount\n",
    "        super().__init__(f\"Insufficient balance of {balance} during withdrawal of {amount}\")\n",
    "\n",
    "def withdraw(balance, amount):\n",
    "    if amount > balance:\n",
    "        raise WithdrawalError(balance, amount)\n",
    "    return balance - amount\n",
    "\n",
    "try:\n",
    "    account_balance = 1000\n",
    "    withdrawal_amount = 1500\n",
    "    new_balance = withdraw(account_balance, withdrawal_amount)\n",
    "    print(\"Withdrawal successful. New balance:\", new_balance)\n",
    "except WithdrawalError as e:\n",
    "    print(\"Error:\", e)"
   ]
  },
  {
   "cell_type": "markdown",
   "id": "49fd08eb",
   "metadata": {},
   "source": [
    "### 6"
   ]
  },
  {
   "cell_type": "code",
   "execution_count": 24,
   "id": "5a650bed",
   "metadata": {},
   "outputs": [
    {
     "name": "stdout",
     "output_type": "stream",
     "text": [
      "Enter Password=1234\n",
      "Error: Incorrect Password Entered\n"
     ]
    }
   ],
   "source": [
    "class LogInError(Exception):\n",
    "    def __init__(self):\n",
    "        super().__init__(f\"Incorrect Password Entered\")\n",
    "\n",
    "def check(Password,entered_password):\n",
    "    if Password!=entered_password:\n",
    "        raise LogInError()\n",
    "    return True\n",
    "\n",
    "try:\n",
    "    Password = 1560\n",
    "    entered_password=int(input('Enter Password='))\n",
    "    login = check(Password,entered_password)\n",
    "    print(\"LogIn Successful\")\n",
    "except LogInError as e:\n",
    "    print(\"Error:\", e)"
   ]
  },
  {
   "cell_type": "code",
   "execution_count": null,
   "id": "44418cbc",
   "metadata": {},
   "outputs": [],
   "source": []
  }
 ],
 "metadata": {
  "kernelspec": {
   "display_name": "Python 3 (ipykernel)",
   "language": "python",
   "name": "python3"
  },
  "language_info": {
   "codemirror_mode": {
    "name": "ipython",
    "version": 3
   },
   "file_extension": ".py",
   "mimetype": "text/x-python",
   "name": "python",
   "nbconvert_exporter": "python",
   "pygments_lexer": "ipython3",
   "version": "3.11.0"
  }
 },
 "nbformat": 4,
 "nbformat_minor": 5
}
