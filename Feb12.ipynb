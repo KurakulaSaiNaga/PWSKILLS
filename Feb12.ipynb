{
 "cells": [
  {
   "cell_type": "markdown",
   "id": "6a52689b",
   "metadata": {},
   "source": [
    "### 1"
   ]
  },
  {
   "cell_type": "markdown",
   "id": "e35cab76",
   "metadata": {},
   "source": [
    "**Exception**\n",
    "\n",
    "An exception in Python is an event that occurs during the execution of a program, disrupting the normal flow of the program's instructions. Exceptions are used to handle various types of runtime errors or exceptional situations that may occur while the program is running.\n",
    "\n",
    "Differences between Exceptions and Syntax Errors:\n",
    "    \n",
    "- Syntax Error:Syntax errors are caused by violations of the Python syntax rules.\n",
    "\n",
    " Exception:Exceptions are runtime errors that occur during the execution of a program.\n",
    "    \n",
    "- Syntax Error:Syntax errors are detected by the Python interpreter when it attempts to parse your code.\n",
    "\n",
    " Exception:Exceptions are detected during the execution of your program when a specific condition or operation that raises an exception is encountered.\n",
    "\n",
    "- Syntax Error:Syntax errors must be fixed directly in the code by correcting the syntax issues.\n",
    "\n",
    "  Exception:Exceptions can be handled using try-except blocks."
   ]
  },
  {
   "cell_type": "markdown",
   "id": "30f1c616",
   "metadata": {},
   "source": [
    "### 2"
   ]
  },
  {
   "cell_type": "markdown",
   "id": "2db8d7d3",
   "metadata": {},
   "source": [
    "- When an exception is not handled in Python, it leads to the termination of the program's normal execution. The Python interpreter prints an error message describing the exception that occurred.\n",
    "\n",
    "**Unhandled Exception:**\n",
    "\n",
    "def divide(x, y):\n",
    "\n",
    "    return x / y\n",
    "\n",
    "result = divide(10, 0) \n",
    "\n",
    "print(result) # output: gives ZeroDivisionError\n",
    "\n",
    "**Handled Exception:**\n",
    "\n",
    "try:\n",
    "\n",
    "    10/0\n",
    "    \n",
    "except:\n",
    "\n",
    "    print(\"Division cannot be possible\") #output: Division cannot be possible"
   ]
  },
  {
   "cell_type": "markdown",
   "id": "abdc9feb",
   "metadata": {},
   "source": [
    "### 3"
   ]
  },
  {
   "cell_type": "code",
   "execution_count": null,
   "id": "f71df22b",
   "metadata": {},
   "outputs": [],
   "source": []
  }
 ],
 "metadata": {
  "kernelspec": {
   "display_name": "Python 3 (ipykernel)",
   "language": "python",
   "name": "python3"
  },
  "language_info": {
   "codemirror_mode": {
    "name": "ipython",
    "version": 3
   },
   "file_extension": ".py",
   "mimetype": "text/x-python",
   "name": "python",
   "nbconvert_exporter": "python",
   "pygments_lexer": "ipython3",
   "version": "3.11.0"
  }
 },
 "nbformat": 4,
 "nbformat_minor": 5
}
