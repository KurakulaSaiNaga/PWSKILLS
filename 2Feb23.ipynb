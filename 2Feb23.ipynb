{
 "cells": [
  {
   "cell_type": "markdown",
   "id": "e22c0024",
   "metadata": {},
   "source": [
    "### 1"
   ]
  },
  {
   "cell_type": "markdown",
   "id": "aaa5b8d7",
   "metadata": {},
   "source": [
    "tuple is an ordered, immutable sequence of elements. Here are some of the characteristics of tuples:\n",
    "\n",
    "Ordered: The elements of a tuple are ordered, meaning that each element has a specific index.\n",
    "\n",
    "Immutable: Tuples are immutable, which means that once a tuple is created, its elements cannot be changed or modified. However,\n",
    "    it is possible to create a new tuple by concatenating two or more tuples.\n",
    "\n",
    "Heterogeneous:Tuples can contain elements of different data types.\n",
    "In summary, a tuple is a collection of values that is ordered, immutable, and can contain elements of different data types."
   ]
  },
  {
   "cell_type": "markdown",
   "id": "a56d735a",
   "metadata": {},
   "source": [
    "### 2"
   ]
  },
  {
   "cell_type": "code",
   "execution_count": null,
   "id": "e020fd4a",
   "metadata": {},
   "outputs": [],
   "source": [
    "The two tuple methods in Python are count() and index(). Here are examples of each method:\n",
    "\n",
    "1.count(): This method returns the number of times a specific element appears in a tuple.\n",
    "    my_tuple = (1, 2, 3, 3, 4, 5)\n",
    "    count_of_3 = my_tuple.count(3)\n",
    "    print(count_of_3) # Output: 2\n",
    "2.index(): This method returns the index of the first occurrence of a specific element in a tuple.\n",
    "    my_tuple = (1, 2, 3, 3, 4, 5)\n",
    "    index_of_4 = my_tuple.index(4)\n",
    "    print(index_of_4) # Output: 4\n",
    "The reason why tuples have only two in-built methods (count() and index()) compared to lists, which have many more methods, \n",
    "is because tuples are immutable. This means that you cannot add, remove,or modify elements in a tuple after it has been created.\n",
    "Therefore, methods like append(), remove(), and sort() that modify the list in place are not applicable to tuples. The two \n",
    "tuple methods that are available (count() and index()) are read-only operations that allow you to retrieve information \n",
    "about the elements in the tuple without modifying the tuple itself."
   ]
  },
  {
   "cell_type": "markdown",
   "id": "6841d272",
   "metadata": {},
   "source": [
    "### 3"
   ]
  },
  {
   "cell_type": "markdown",
   "id": "828a7a42",
   "metadata": {},
   "source": [
    "In Python, both sets and dictionaries do not allow duplicate items. However, dictionaries store items as key-value pairs, \n",
    "whereas sets only store unique items."
   ]
  },
  {
   "cell_type": "code",
   "execution_count": 7,
   "id": "50e1f95d",
   "metadata": {},
   "outputs": [
    {
     "name": "stdout",
     "output_type": "stream",
     "text": [
      "{1, 2, 3, 4}\n"
     ]
    }
   ],
   "source": [
    "List = [1, 1, 1, 2, 1, 3, 1, 4, 2, 1, 2, 2, 2, 3, 2, 4, 3, 1, 3, 2, 3, 3, 3, 4, 4, 1, 4, 2, 4, 3, 4, 4]\n",
    "unique_items = set(List)\n",
    "print(unique_items)"
   ]
  },
  {
   "cell_type": "markdown",
   "id": "a1c7dc51",
   "metadata": {},
   "source": [
    "### 4"
   ]
  },
  {
   "cell_type": "code",
   "execution_count": null,
   "id": "899d4d85",
   "metadata": {},
   "outputs": [],
   "source": [
    "Both union() and update() are methods used in Python sets, but they have different functionalities.\n",
    "\n",
    "1.union(): This method returns a new set that contains all the unique elements from two or more sets. It does not modify the \n",
    "    original sets.\n",
    "    set1 = {1, 2, 3}\n",
    "    set2 = {3, 4, 5}\n",
    "    set3 = set1.union(set2)\n",
    "    print(set3) # Output: {1, 2, 3, 4, 5}\n",
    "2.update(): This method adds all the elements from one set to another set. It modifies the original set. \n",
    "    set1 = {1, 2, 3}\n",
    "    set2 = {3, 4, 5}\n",
    "    set1.update(set2)\n",
    "    print(set1) # Output: {1, 2, 3, 4, 5}"
   ]
  },
  {
   "cell_type": "markdown",
   "id": "0ef4cfb7",
   "metadata": {},
   "source": [
    "### 5"
   ]
  },
  {
   "cell_type": "code",
   "execution_count": null,
   "id": "cd214db8",
   "metadata": {},
   "outputs": [],
   "source": [
    "In Python, a dictionary is a collection of key-value pairs, where each key is associated with a value.\n",
    "Dictionaries are enclosed in curly braces {}, and each key-value pair is separated by a colon :.\n",
    "Example:\n",
    "    my_dict = {\"apple\": 2, \"banana\": 4, \"orange\": 1}\n",
    "Dictionaries in Python are unordered, meaning that the key-value pairs are not stored in a specific order. \n",
    "When you print a dictionary, the order of the key-value pairs may appear random, depending on the implementation of the Python \n",
    "interpreter. If you need to preserve the order of the key-value pairs, you can use an OrderedDict from the collections module."
   ]
  },
  {
   "cell_type": "markdown",
   "id": "ca1110ad",
   "metadata": {},
   "source": [
    "### 6"
   ]
  },
  {
   "cell_type": "markdown",
   "id": "8603c7f6",
   "metadata": {},
   "source": [
    "Yes, we can create a nested dictionary in Python, which is a dictionary that contains one or more dictionaries as values.\n",
    "Example of a simple one-level nested dictionary:"
   ]
  },
  {
   "cell_type": "code",
   "execution_count": 6,
   "id": "00d304de",
   "metadata": {},
   "outputs": [
    {
     "name": "stdout",
     "output_type": "stream",
     "text": [
      "{'fruits': {'apple': 2, 'banana': 4, 'orange': 1}, 'vegetables': {'carrot': 3, 'broccoli': 2, 'spinach': 1}}\n"
     ]
    }
   ],
   "source": [
    "my_dict = {\n",
    "    \"fruits\": {\"apple\": 2,\"banana\": 4,\"orange\": 1},\n",
    "    \"vegetables\": {\"carrot\": 3,\"broccoli\": 2,\"spinach\": 1}\n",
    "}\n",
    "print(my_dict)"
   ]
  },
  {
   "cell_type": "markdown",
   "id": "5a6fccca",
   "metadata": {},
   "source": [
    "### 7"
   ]
  },
  {
   "cell_type": "code",
   "execution_count": 4,
   "id": "92a44f73",
   "metadata": {},
   "outputs": [
    {
     "name": "stdout",
     "output_type": "stream",
     "text": [
      "{'language': 'Python', 'course': 'Data Science Masters', 'topics': ['Python', 'Machine Learning', 'Deep Learning']}\n"
     ]
    }
   ],
   "source": [
    "dict1 = {'language': 'Python', 'course': 'Data Science Masters'}\n",
    "dict1.setdefault('topics', ['Python', 'Machine Learning', 'Deep Learning'])\n",
    "print(dict1)"
   ]
  },
  {
   "cell_type": "markdown",
   "id": "3dc18608",
   "metadata": {},
   "source": [
    "### 8"
   ]
  },
  {
   "cell_type": "markdown",
   "id": "06470128",
   "metadata": {},
   "source": [
    "In Python, dictionaries have three view objects that provide dynamic views on the dictionary's keys, values, \n",
    "and key-value pairs:\n",
    "- dict.keys(): Returns a view object that contains the keys of the dictionary.\n",
    "- dict.values(): Returns a view object that contains the values of the dictionary.\n",
    "- dict.items(): Returns a view object that contains the key-value pairs of the dictionary as tuples."
   ]
  },
  {
   "cell_type": "code",
   "execution_count": 3,
   "id": "4ffa1717",
   "metadata": {},
   "outputs": [
    {
     "name": "stdout",
     "output_type": "stream",
     "text": [
      "Keys view: dict_keys(['Sport', 'Teams'])\n",
      "Values view: dict_values(['Cricket', ['India', 'Australia', 'England', 'South Africa', 'Sri Lanka', 'New Zealand']])\n",
      "Items view: dict_items([('Sport', 'Cricket'), ('Teams', ['India', 'Australia', 'England', 'South Africa', 'Sri Lanka', 'New Zealand'])])\n"
     ]
    }
   ],
   "source": [
    "dict1 = {'Sport': 'Cricket', 'Teams': ['India', 'Australia', 'England', 'South Africa', 'Sri Lanka', 'New Zealand']}\n",
    "\n",
    "keys_view = dict1.keys()\n",
    "values_view = dict1.values()\n",
    "items_view = dict1.items()\n",
    "\n",
    "print(\"Keys view:\", keys_view)\n",
    "print(\"Values view:\", values_view)\n",
    "print(\"Items view:\", items_view)"
   ]
  },
  {
   "cell_type": "code",
   "execution_count": null,
   "id": "ea70cda3",
   "metadata": {},
   "outputs": [],
   "source": []
  }
 ],
 "metadata": {
  "kernelspec": {
   "display_name": "Python 3 (ipykernel)",
   "language": "python",
   "name": "python3"
  },
  "language_info": {
   "codemirror_mode": {
    "name": "ipython",
    "version": 3
   },
   "file_extension": ".py",
   "mimetype": "text/x-python",
   "name": "python",
   "nbconvert_exporter": "python",
   "pygments_lexer": "ipython3",
   "version": "3.11.0"
  }
 },
 "nbformat": 4,
 "nbformat_minor": 5
}
