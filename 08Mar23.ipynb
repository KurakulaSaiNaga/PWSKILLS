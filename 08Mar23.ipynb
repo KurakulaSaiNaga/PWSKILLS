{
 "cells": [
  {
   "cell_type": "markdown",
   "id": "fcd3c275",
   "metadata": {},
   "source": [
    "### 1"
   ]
  },
  {
   "cell_type": "markdown",
   "id": "cc3c0c69",
   "metadata": {},
   "source": [
    "The Probability Density Function (PDF) is a statistical function that describes the likelihood of a continuous random variable taking on a specific value within a given range. In other words, it assigns a probability density to each possible value of the continuous random variable. The PDF is used in continuous probability distributions, such as the normal distribution, exponential distribution, and uniform distribution, to model the probability distribution of continuous data.\n",
    "\n",
    "The PDF has the property that the area under the curve over a specific range represents the probability of the random variable falling within that range. In mathematical notation, for a continuous random variable X, the PDF is often denoted as f(x), and it satisfies the following conditions:\n",
    "\n",
    "- f(x) is non-negative for all x.\n",
    "- The total area under the curve of f(x) over its entire range is equal to 1, representing the total probability of all possible outcomes."
   ]
  },
  {
   "cell_type": "markdown",
   "id": "ac500028",
   "metadata": {},
   "source": [
    "### 2"
   ]
  },
  {
   "cell_type": "markdown",
   "id": "9b1f83cd",
   "metadata": {},
   "source": [
    "There are several types of probability distributions, each with its own characteristics and applications. Some common probability distributions include:\n",
    "\n",
    "1.Normal Distribution: The normal distribution, also known as the Gaussian distribution, is a symmetric bell-shaped distribution. It is characterized by its mean and standard deviation and is widely used in statistics due to its applicability to many real-world phenomena.\n",
    "\n",
    "2.Binomial Distribution: The binomial distribution models the number of successes (e.g., heads in coin flips) in a fixed number of independent and identically distributed (i.i.d.) Bernoulli trials. It is described by parameters n (number of trials) and p (probability of success in each trial).\n",
    "\n",
    "3.Poisson Distribution: The Poisson distribution models the number of events occurring in a fixed interval of time or space. It is often used for rare events with a known average rate of occurrence, represented by the parameter λ (lambda).\n",
    "\n",
    "4.Exponential Distribution: The exponential distribution describes the time between events in a Poisson process. It is commonly used in reliability analysis and queuing theory.\n",
    "\n",
    "5.Uniform Distribution: The uniform distribution represents a continuous random variable where all values within a given range are equally likely.\n",
    "\n",
    "6.Chi-Square Distribution: The chi-square distribution is used in hypothesis testing and describes the distribution of the sum of squared standard normal random variables.\n",
    "\n",
    "7.Student's t-Distribution: The t-distribution is used for estimating population parameters when the sample size is small and follows a normal distribution.\n",
    "\n",
    "8.F-Distribution: The F-distribution is used in statistical hypothesis testing, particularly in analysis of variance (ANOVA) and regression analysis"
   ]
  },
  {
   "cell_type": "markdown",
   "id": "21da81fc",
   "metadata": {},
   "source": [
    "### 3"
   ]
  },
  {
   "cell_type": "code",
   "execution_count": 1,
   "id": "1b3cc2e4",
   "metadata": {},
   "outputs": [
    {
     "name": "stdout",
     "output_type": "stream",
     "text": [
      "PDF at x=1 is 0.24197072451914337\n"
     ]
    }
   ],
   "source": [
    "import numpy as np\n",
    "import scipy.stats as stats\n",
    "\n",
    "def normal_pdf(x, mean, std_dev):\n",
    "    pdf_value = stats.norm.pdf(x, loc=mean, scale=std_dev)\n",
    "    return pdf_value\n",
    "\n",
    "# Example usage:\n",
    "mean = 0\n",
    "std_dev = 1\n",
    "x_value = 1\n",
    "pdf_result = normal_pdf(x_value, mean, std_dev)\n",
    "print(f'PDF at x={x_value} is {pdf_result}')\n"
   ]
  },
  {
   "cell_type": "markdown",
   "id": "380d6982",
   "metadata": {},
   "source": [
    "### 4"
   ]
  },
  {
   "cell_type": "markdown",
   "id": "4f4ed70a",
   "metadata": {},
   "source": [
    "Properties of the Binomial Distribution:\n",
    "\n",
    "- It models the number of successes in a fixed number of independent trials.\n",
    "- Each trial has only two possible outcomes: success (usually denoted as \"1\") and failure (usually denoted as \"0\").\n",
    "- The probability of success (p) is constant across all trials.\n",
    "- The trials are independent of each other.\n",
    "- The random variable follows a binomial distribution with parameters n (number of trials) and p (probability of success in each trial).\n",
    "\n",
    "Examples of Events Where Binomial Distribution Applies:\n",
    "\n",
    "1.Coin Flips: Modeling the number of heads obtained in a series of coin flips (assuming a fair coin).\n",
    "\n",
    "2.Quality Control: Determining the number of defective items in a batch of products produced in a factory (assuming a constant defect rate)."
   ]
  },
  {
   "cell_type": "markdown",
   "id": "b7c25685",
   "metadata": {},
   "source": [
    "### 5"
   ]
  },
  {
   "cell_type": "code",
   "execution_count": 2,
   "id": "b345b0c1",
   "metadata": {},
   "outputs": [
    {
     "data": {
      "image/png": "[encoded data removed]",
      "text/plain": [
       "<Figure size 640x480 with 1 Axes>"
      ]
     },
     "metadata": {},
     "output_type": "display_data"
    }
   ],
   "source": [
    "import numpy as np\n",
    "import matplotlib.pyplot as plt\n",
    "\n",
    "# Parameters\n",
    "n = 10  # Number of trials\n",
    "p = 0.4  # Probability of success in each trial\n",
    "sample_size = 1000\n",
    "\n",
    "# Generate random sample\n",
    "binomial_sample = np.random.binomial(n, p, sample_size)\n",
    "\n",
    "# Plot histogram\n",
    "plt.hist(binomial_sample, bins=np.arange(0, n + 2) - 0.5, alpha=0.7, rwidth=0.85, density=True)\n",
    "plt.xlabel('Number of Successes')\n",
    "plt.ylabel('Probability')\n",
    "plt.title(f'Binomial Distribution (n={n}, p={p})')\n",
    "plt.xticks(range(n + 1))\n",
    "plt.grid(axis='y', linestyle='--', alpha=0.7)\n",
    "plt.show()\n"
   ]
  },
  {
   "cell_type": "markdown",
   "id": "7eda5ea4",
   "metadata": {},
   "source": [
    "### 6"
   ]
  },
  {
   "cell_type": "code",
   "execution_count": 3,
   "id": "d347e582",
   "metadata": {},
   "outputs": [
    {
     "name": "stdout",
     "output_type": "stream",
     "text": [
      "CDF at x=3 is 0.2650259152973615\n"
     ]
    }
   ],
   "source": [
    "import scipy.stats as stats\n",
    "\n",
    "def poisson_cdf(x, mean):\n",
    "    cdf_value = stats.poisson.cdf(x, mu=mean)\n",
    "    return cdf_value\n",
    "\n",
    "mean = 5\n",
    "x_value = 3\n",
    "cdf_result = poisson_cdf(x_value, mean)\n",
    "print(f'CDF at x={x_value} is {cdf_result}')\n"
   ]
  },
  {
   "cell_type": "markdown",
   "id": "01df3e03",
   "metadata": {},
   "source": [
    "### 7"
   ]
  },
  {
   "cell_type": "markdown",
   "id": "9e4ba00d",
   "metadata": {},
   "source": [
    "The Binomial distribution and Poisson distribution are both probability distributions used to model discrete random variables, but they differ in several key aspects:\n",
    "\n",
    "1.Nature of Events:\n",
    "\n",
    "- Binomial Distribution: Models the number of successes in a fixed number (n) of independent and identical trials, where each trial has two possible outcomes (success or failure).\n",
    "-  Poisson Distribution: Models the number of events occurring in a fixed interval of time or space, with no restriction on the number of events that can occur.\n",
    "\n",
    "2.Parameters:\n",
    "\n",
    "- Binomial Distribution: Characterized by two parameters, n (number of trials) and p (probability of success in each trial).\n",
    "- Poisson Distribution: Characterized by a single parameter, λ (lambda), representing the average rate of occurrence of events in the given interval.\n",
    "\n",
    "3.Use Cases:\n",
    "\n",
    "- Binomial Distribution: Applicable when there is a fixed number of trials, and the probability of success remains constant across trials. Commonly used in scenarios involving repeated Bernoulli trials.\n",
    "- Poisson Distribution: Applicable when events occur randomly and independently within a fixed interval, and the average rate of occurrence is known. Commonly used for modeling rare events.\n",
    "\n",
    "4.Shape:\n",
    "\n",
    "- Binomial Distribution: Typically has a more defined shape with discrete outcomes, especially when n is large.\n",
    "- Poisson Distribution: Often approximates a skewed distribution with a long tail, especially when the average rate (λ) is relatively small.\n",
    "\n",
    "5.Limitations:\n",
    "\n",
    "- Binomial Distribution: Assumes a fixed number of trials, which may not be appropriate for modeling events that occur continuously or without a predetermined number of trials.\n",
    "- Poisson Distribution: Assumes events occur independently, which may not hold in all situations."
   ]
  },
  {
   "cell_type": "markdown",
   "id": "83efae7e",
   "metadata": {},
   "source": [
    "### 8"
   ]
  },
  {
   "cell_type": "code",
   "execution_count": 7,
   "id": "ee84c8f7",
   "metadata": {},
   "outputs": [
    {
     "name": "stdout",
     "output_type": "stream",
     "text": [
      "Sample Mean: 5.004\n",
      "Sample Variance: 4.7499839999999995\n"
     ]
    }
   ],
   "source": [
    "import numpy as np\n",
    "\n",
    "# Parameters\n",
    "mean = 5\n",
    "sample_size = 1000\n",
    "\n",
    "# Generate random sample from Poisson distribution\n",
    "poisson_sample = np.random.poisson(mean, sample_size)\n",
    "\n",
    "# Calculate sample mean and variance\n",
    "sample_mean = np.mean(poisson_sample)\n",
    "sample_variance = np.var(poisson_sample)\n",
    "\n",
    "print(f'Sample Mean: {sample_mean}')\n",
    "print(f'Sample Variance: {sample_variance}')\n"
   ]
  },
  {
   "cell_type": "markdown",
   "id": "224b0c70",
   "metadata": {},
   "source": [
    "### 9"
   ]
  },
  {
   "cell_type": "markdown",
   "id": "daf4fc1c",
   "metadata": {},
   "source": [
    "In both the Binomial distribution and the Poisson distribution, the mean (average) and variance are related by a simple mathematical relationship:\n",
    "\n",
    "`Binomial Distribution:`\n",
    "\n",
    "Mean (μ) = n * p\n",
    "Variance (σ²) = n * p * (1 - p)\n",
    "In a Binomial distribution, where n is the number of trials and p is the probability of success in each trial, the variance is a function of both n and p. As n increases while keeping p constant, the variance tends to increase.\n",
    "\n",
    "`Poisson Distribution:`\n",
    "\n",
    "Mean (λ) = Variance (σ²)\n",
    "In a Poisson distribution, which models the number of events occurring in a fixed interval, the mean and variance are equal and are both represented by the parameter λ (lambda). This means that the spread of the data in a Poisson distribution is solely determined by the average rate of occurrence (λ). When λ is small, the distribution is more dispersed, and when λ is large, the distribution is more concentrated around the mean.\n"
   ]
  },
  {
   "cell_type": "markdown",
   "id": "38749cd0",
   "metadata": {},
   "source": [
    "### 10"
   ]
  },
  {
   "cell_type": "markdown",
   "id": "ec999506",
   "metadata": {},
   "source": [
    "In a normal distribution, also known as a Gaussian distribution, the least frequent data appears in the tails of the distribution, farthest away from the mean. The normal distribution is symmetric, and its highest point, or peak, is at the mean (μ). As you move away from the mean in either direction along the x-axis, the frequency of data values decreases gradually.\n",
    "\n",
    "The tails of the normal distribution extend infinitely in both directions. The data becomes progressively less frequent as you move farther from the mean. The points where the tails begin to asymptotically approach zero are referred to as the tails' endpoints or critical values. In standard notation, these critical values are located at ±∞.\n",
    "\n",
    "In practical terms, for most real-world datasets that follow a normal distribution, the vast majority of data points are clustered around the mean, and data points become increasingly rare as you move away from the mean towards the tails of the distribution. The tails represent extreme or outlier values that occur with very low frequency."
   ]
  },
  {
   "cell_type": "code",
   "execution_count": null,
   "id": "1e4f9b93",
   "metadata": {},
   "outputs": [],
   "source": []
  }
 ],
 "metadata": {
  "kernelspec": {
   "display_name": "Python 3 (ipykernel)",
   "language": "python",
   "name": "python3"
  },
  "language_info": {
   "codemirror_mode": {
    "name": "ipython",
    "version": 3
   },
   "file_extension": ".py",
   "mimetype": "text/x-python",
   "name": "python",
   "nbconvert_exporter": "python",
   "pygments_lexer": "ipython3",
   "version": "3.11.0"
  }
 },
 "nbformat": 4,
 "nbformat_minor": 5
}
