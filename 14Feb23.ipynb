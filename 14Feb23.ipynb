{
 "cells": [
  {
   "cell_type": "markdown",
   "id": "b918d9d5",
   "metadata": {},
   "source": [
    "### 1"
   ]
  },
  {
   "cell_type": "markdown",
   "id": "d2b9fb34",
   "metadata": {},
   "source": [
    "Multithreading in python refers to execution of more than one thread concurrently with a single process.\n",
    "\n",
    "Uses:\n",
    "- It performs tasks simultaneously\n",
    "- Resource Sharing\n",
    "- It simplifies the code\n",
    "\n",
    "The module threading is used to handle the thread in python"
   ]
  },
  {
   "cell_type": "markdown",
   "id": "0a44061e",
   "metadata": {},
   "source": [
    "### 2"
   ]
  },
  {
   "cell_type": "markdown",
   "id": "aca9b08c",
   "metadata": {},
   "source": [
    "threading module is used to work with the threads and to handle the threads."
   ]
  },
  {
   "cell_type": "code",
   "execution_count": 11,
   "id": "ef9e43aa",
   "metadata": {},
   "outputs": [
    {
     "name": "stdout",
     "output_type": "stream",
     "text": [
      "No.of threads= 6\n",
      "Current thread= <_MainThread(MainThread, started 22144)>\n",
      "Names of threads:\n",
      "MainThread\n",
      "IOPub\n",
      "Heartbeat\n",
      "Control\n",
      "IPythonHistorySavingThread\n",
      "Thread-4\n"
     ]
    }
   ],
   "source": [
    "import threading\n",
    "def test():\n",
    "    pass\n",
    "thread1=threading.Thread(target=test)\n",
    "thread2=threading.Thread(target=test)\n",
    "thread1.start()\n",
    "thread2.start()\n",
    "print(\"No.of threads=\",threading.active_count())\n",
    "print(\"Current thread=\",threading.current_thread())\n",
    "threads=threading.enumerate()\n",
    "print(\"Names of threads:\")\n",
    "for i in threads:\n",
    "    print(i.name)"
   ]
  },
  {
   "cell_type": "markdown",
   "id": "1250d9e8",
   "metadata": {},
   "source": [
    "### 3"
   ]
  },
  {
   "cell_type": "markdown",
   "id": "ee5df48d",
   "metadata": {},
   "source": [
    "**run() :**\n",
    "- It is not a standalone function.\n",
    "- It is used along with start() function.\n",
    "- It is used to run the threads.\n",
    "\n",
    "**start() :**\n",
    "- It starts the execution of threads.\n",
    "- when start() is executed it starts the execution of code which is defined inside the run() method.\n",
    "\n",
    "**join() :**\n",
    "- It is used to wait for a thread to complete its its execution.\n",
    "- Whenever join() is executed it stops the execution of next instructions until the execution of thread is executed successfully.\n",
    "\n",
    "**isAlive() :**\n",
    "- It is used to check whether a thread is alive or not.\n",
    "- It return True if the thread is running or alive.\n",
    "- It return False if the thread is not alive or the execution of thread is not yet started."
   ]
  },
  {
   "cell_type": "code",
   "execution_count": 46,
   "id": "196c7810",
   "metadata": {},
   "outputs": [
    {
     "name": "stdout",
     "output_type": "stream",
     "text": [
      "<My_Thread(Thread-89, started 11892)>\n",
      "<My_Thread(Thread-89, started 11892)>\n",
      "<My_Thread(Thread-89, started 11892)>\n",
      "<My_Thread(Thread-89, started 11892)>\n",
      "<My_Thread(Thread-89, started 11892)>\n",
      "<My_Thread(Thread-90, started 21044)>\n",
      "<My_Thread(Thread-90, started 21044)>\n",
      "<My_Thread(Thread-90, started 21044)>\n",
      "<My_Thread(Thread-90, started 21044)>\n",
      "<My_Thread(Thread-90, started 21044)>\n",
      "False\n"
     ]
    }
   ],
   "source": [
    "import threading\n",
    "class My_Thread(threading.Thread):\n",
    "    i=0\n",
    "    def run(self):\n",
    "        for j in range(5):\n",
    "            print(threading.current_thread())\n",
    "t1=My_Thread()\n",
    "t2=My_Thread()\n",
    "t1.start()\n",
    "t1.join()\n",
    "t2.start()\n",
    "t2.join()\n",
    "print(t1.is_alive())"
   ]
  },
  {
   "cell_type": "markdown",
   "id": "75ee6b4c",
   "metadata": {},
   "source": [
    "### 4"
   ]
  },
  {
   "cell_type": "code",
   "execution_count": 50,
   "id": "f570f62e",
   "metadata": {},
   "outputs": [
    {
     "name": "stdout",
     "output_type": "stream",
     "text": [
      "0\n",
      "1\n",
      "4\n",
      "9\n",
      "16\n",
      "0\n",
      "1\n",
      "8\n",
      "27\n",
      "64\n",
      "both are executed\n"
     ]
    }
   ],
   "source": [
    "import threading\n",
    "def print_squares():\n",
    "    for i in range(5):\n",
    "        print(i*i)\n",
    "def print_cubes():\n",
    "    for i in range(5):\n",
    "        print(i*i*i)\n",
    "thread1=threading.Thread(target=print_squares())\n",
    "thread2=threading.Thread(target=print_cubes())\n",
    "thread1.start()\n",
    "thread2.start()\n",
    "thread1.join()\n",
    "thread2.join()\n",
    "print(\"both are executed\")"
   ]
  },
  {
   "cell_type": "markdown",
   "id": "544d9a3a",
   "metadata": {},
   "source": [
    "### 5"
   ]
  },
  {
   "cell_type": "markdown",
   "id": "24422c0a",
   "metadata": {},
   "source": [
    "**Advantages of Multithreading**\n",
    "\n",
    "- It performs tasks simultaneously\n",
    "- Shared Memory\n",
    "- It simplifies the code\n",
    "- Improves Responsiveness\n",
    "- Better resource utilization\n",
    "\n",
    "**Disadvantages of Multithreading**\n",
    "\n",
    "- Chance for Deadlocks\n",
    "- Race Condition\n",
    "- Increased Memory Usage"
   ]
  },
  {
   "cell_type": "markdown",
   "id": "cc182e8a",
   "metadata": {},
   "source": [
    "### 6"
   ]
  },
  {
   "cell_type": "markdown",
   "id": "1eb5a3a4",
   "metadata": {},
   "source": [
    "Deadlocks and Race conditions are both common concurrency problems in multithreading. Deadlocks occur when threads get stuck waiting for each other to release resources, while race conditions arise when threads concurrently access and modify shared data without proper synchronization. Careful design, synchronization, and debugging practices are necessary to prevent and resolve these issues in multithreaded applications."
   ]
  },
  {
   "cell_type": "code",
   "execution_count": null,
   "id": "eff6b220",
   "metadata": {},
   "outputs": [],
   "source": []
  }
 ],
 "metadata": {
  "kernelspec": {
   "display_name": "Python 3 (ipykernel)",
   "language": "python",
   "name": "python3"
  },
  "language_info": {
   "codemirror_mode": {
    "name": "ipython",
    "version": 3
   },
   "file_extension": ".py",
   "mimetype": "text/x-python",
   "name": "python",
   "nbconvert_exporter": "python",
   "pygments_lexer": "ipython3",
   "version": "3.11.0"
  }
 },
 "nbformat": 4,
 "nbformat_minor": 5
}
