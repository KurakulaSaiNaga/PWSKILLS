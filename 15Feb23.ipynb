{
 "cells": [
  {
   "cell_type": "markdown",
   "id": "9d49ba37",
   "metadata": {},
   "source": [
    "### 1"
   ]
  },
  {
   "cell_type": "markdown",
   "id": "23e29dd7",
   "metadata": {},
   "source": [
    "Multiprocessing in Python is a programming technique and module that allows you to create and manage multiple processes, each with its own Python interpreter and memory space, within a single program. This enables true parallelism, as each process can run on a separate CPU core, making it distinct from multithreading, which is constrained by the Global Interpreter Lock (GIL) and may not fully utilize multiple CPU cores.\n",
    "\n",
    "The primary module for multiprocessing in Python is the `multiprocessing` module.multiprocessing is useful for:\n",
    "\n",
    "- True Parallelism\n",
    "- Isolation\n",
    "\n",
    "- Resource Utilization\n",
    "\n",
    "- Efficient for Multi-Core Systems\n",
    "\n",
    "- Parallel Algorithms\n",
    "\n",
    "- Avoiding GIL Limitations \n",
    "- Fault Tolerance \n",
    "- Parallel I/O Operations\n",
    "- Scalability "
   ]
  },
  {
   "cell_type": "markdown",
   "id": "27d8246e",
   "metadata": {},
   "source": [
    "### 2"
   ]
  },
  {
   "cell_type": "markdown",
   "id": "70554aba",
   "metadata": {},
   "source": [
    "Multiprocessing and multithreading are both techniques for achieving concurrent execution in a program, but they differ in several key aspects. Here are the main differences between multiprocessing and multithreading:\n",
    "\n",
    "1. **Processes vs. Threads**:\n",
    "\n",
    "   - **Multiprocessing**: In multiprocessing, multiple processes are created, each with its own separate memory space and Python interpreter. Processes are heavyweight compared to threads because they require more system resources.\n",
    "   \n",
    "   - **Multithreading**: Multithreading involves creating multiple threads within a single process. Threads share the same memory space and Python interpreter, making them lighter in terms of resource consumption compared to processes.\n",
    "\n",
    "2. **True Parallelism**:\n",
    "\n",
    "   - **Multiprocessing**: Multiprocessing enables true parallelism, as each process can run on a separate CPU core (assuming a multi-core CPU). This allows CPU-bound tasks to execute concurrently, maximizing resource utilization.\n",
    "\n",
    "   - **Multithreading**: Multithreading, in the context of Python's Global Interpreter Lock (GIL), does not achieve true parallelism for CPU-bound tasks, as the GIL restricts the execution of Python bytecode to a single thread at a time. Multithreading is more suitable for I/O-bound tasks or tasks that release the GIL, such as C extensions or external libraries.\n",
    "\n",
    "3. **Inter-Process Communication (IPC)**:\n",
    "\n",
    "   - **Multiprocessing**: Processes communicate via mechanisms like pipes, queues, and shared memory provided by the `multiprocessing` module. IPC can be more complex due to the isolation between processes.\n",
    "\n",
    "   - **Multithreading**: Threads share the same memory space and can communicate more easily through shared variables and data structures. However, this requires careful synchronization to avoid race conditions and other concurrency issues.\n",
    "\n",
    "4. **Isolation**:\n",
    "\n",
    "   - **Multiprocessing**: Processes are isolated from each other, which means that an error or crash in one process generally does not affect the others. This isolation enhances program stability.\n",
    "\n",
    "   - **Multithreading**: Threads within the same process share memory, which makes them more tightly coupled. An error or crash in one thread can potentially affect the entire process.\n",
    "\n",
    "5. **Resource Consumption**:\n",
    "\n",
    "   - **Multiprocessing**: Multiprocessing tends to consume more system resources (memory and CPU) because each process has its own memory space and interpreter. This can limit the number of processes that can be created on a system.\n",
    "\n",
    "   - **Multithreading**: Threads are more lightweight in terms of resource consumption, as they share memory and resources within the same process. This allows for the creation of a larger number of threads compared to processes.\n",
    "\n",
    "6. **Ease of Use**:\n",
    "\n",
    "   - **Multiprocessing**: Multiprocessing can be more complex to implement and debug due to the need for IPC mechanisms and coordination between processes. However, the `multiprocessing` module provides abstractions to simplify the process.\n",
    "\n",
    "   - **Multithreading**: Multithreading is often considered easier to use, especially for tasks that involve shared data, as threads can directly access shared memory. However, it can be more challenging to manage synchronization and avoid race conditions.\n",
    "\n",
    "7. **Use Cases**:\n",
    "\n",
    "   - **Multiprocessing**: Multiprocessing is well-suited for CPU-bound tasks that benefit from parallelism, such as scientific simulations, data processing, and rendering. It is also suitable for scenarios where isolation between processes is essential for fault tolerance.\n",
    "\n",
    "   - **Multithreading**: Multithreading is useful for I/O-bound tasks, concurrent network operations, and scenarios where responsiveness in GUI applications is critical. It can also be beneficial for parallelism in asynchronous programming.\n"
   ]
  },
  {
   "cell_type": "markdown",
   "id": "aab0eaf6",
   "metadata": {},
   "source": [
    "### 3"
   ]
  },
  {
   "cell_type": "raw",
   "id": "70075b03",
   "metadata": {},
   "source": [
    "import multiprocessing\n",
    "def test():\n",
    "    print(\"This is multiprocessing\")"
   ]
  },
  {
   "cell_type": "raw",
   "id": "04710cfc",
   "metadata": {},
   "source": [
    "test()"
   ]
  },
  {
   "cell_type": "raw",
   "id": "9e2a2eb8",
   "metadata": {},
   "source": [
    "def test():\n",
    "    print(\"This is multiprocessing\")\n",
    "if __name__==\"__main__\":\n",
    "    m=multiprocessing.Process(target=test)\n",
    "    print(\"This is child process\")\n",
    "    m.start()\n",
    "    m.join()"
   ]
  },
  {
   "cell_type": "markdown",
   "id": "b8d87456",
   "metadata": {},
   "source": [
    "### 4"
   ]
  },
  {
   "cell_type": "markdown",
   "id": "efb6090c",
   "metadata": {},
   "source": [
    "A multiprocessing pool in Python, specifically provided by the multiprocessing module, is a high-level abstraction for managing a pool of worker processes. It is used to parallelize and distribute tasks across multiple processes efficiently. The primary purpose of a multiprocessing pool is to simplify the process of creating and managing worker processes, making it easier to achieve parallelism in Python programs."
   ]
  },
  {
   "cell_type": "markdown",
   "id": "26de0bb7",
   "metadata": {},
   "source": [
    "It is useful for:\n",
    "- Parallel Execution\n",
    "- Efficient Resource Management\n",
    "- Load Balancing\n",
    "- Control over Process Count"
   ]
  },
  {
   "cell_type": "markdown",
   "id": "48147e43",
   "metadata": {},
   "source": [
    "### 5"
   ]
  },
  {
   "cell_type": "raw",
   "id": "321f776e",
   "metadata": {},
   "source": [
    "def square(n):\n",
    "\n",
    "    return n**2\n",
    "    \n",
    "if __name__==\"__main__\":\n",
    "\n",
    "    with multiprocessing.Pool(processes=5) as pool:\n",
    "    \n",
    "        out=pool.map(square,[1,2,3,4,5,6,7,8])\n",
    "        \n",
    "        print(out)"
   ]
  },
  {
   "cell_type": "markdown",
   "id": "68c24c83",
   "metadata": {},
   "source": [
    "### 6"
   ]
  },
  {
   "cell_type": "raw",
   "id": "80f1a3f4",
   "metadata": {},
   "source": [
    "import multiprocessing\n",
    "def print_number(number):\n",
    "    print(f\"Process {multiprocessing.current_process().name} prints {number}\")\n",
    "\n",
    "if __name__ == \"__main__\":\n",
    "    numbers = [1, 2, 3, 4]\n",
    "    with multiprocessing.Pool(processes=4) as pool:\n",
    "        pool.map(print_number, numbers)\n"
   ]
  },
  {
   "cell_type": "code",
   "execution_count": null,
   "id": "5fa7489f",
   "metadata": {},
   "outputs": [],
   "source": []
  }
 ],
 "metadata": {
  "kernelspec": {
   "display_name": "Python 3 (ipykernel)",
   "language": "python",
   "name": "python3"
  },
  "language_info": {
   "codemirror_mode": {
    "name": "ipython",
    "version": 3
   },
   "file_extension": ".py",
   "mimetype": "text/x-python",
   "name": "python",
   "nbconvert_exporter": "python",
   "pygments_lexer": "ipython3",
   "version": "3.11.0"
  }
 },
 "nbformat": 4,
 "nbformat_minor": 5
}
