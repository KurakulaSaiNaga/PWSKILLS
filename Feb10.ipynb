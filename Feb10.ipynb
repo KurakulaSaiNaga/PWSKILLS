{
 "cells": [
  {
   "cell_type": "markdown",
   "id": "54ce77ae",
   "metadata": {},
   "source": [
    "### 1"
   ]
  },
  {
   "cell_type": "markdown",
   "id": "99df56e0",
   "metadata": {},
   "source": [
    "- open() function is used to open a file.\n",
    "- It takes atleast one parameter which is filename or filepath and the second optional parameter is the mode of a file in which the file has to be opened.\n",
    "- If the optional parameter is not mentioned by default it is opened in read mode.\n",
    "- Syntax:     open(filename,mode)"
   ]
  },
  {
   "cell_type": "markdown",
   "id": "c4ff4042",
   "metadata": {},
   "source": [
    "### modes and description"
   ]
  },
  {
   "cell_type": "markdown",
   "id": "1aaf03ed",
   "metadata": {},
   "source": [
    "**'r' (Read):**\n",
    "\n",
    "- This is the default mode if no mode is specified.\n",
    "- Opens the file for reading.\n",
    "- Throws an error if the file does not exist.\n",
    "\n",
    "**'w' (Write):**\n",
    "\n",
    "- Opens the file for writing.\n",
    "- Creates a new file if it doesn't exist.\n",
    "- If the file already exists, it truncates (empties) the file before writing.\n",
    "\n",
    "**'a' (Append):**\n",
    "\n",
    "- Opens the file for writing.\n",
    "- Creates a new file if it doesn't exist.\n",
    "- If the file already exists, it appends data to the end of the file.\n",
    "\n",
    "**'b' (Binary):**\n",
    "\n",
    "- This mode is used in conjunction with other modes, such as 'rb' or 'wb'.\n",
    "- Opens the file in binary mode, allowing you to read or write binary data.\n",
    "\n",
    "**'t' (Text):**\n",
    "\n",
    "- This is the default mode in text mode.\n",
    "- Opens the file in text mode for reading or writing textual data.\n",
    "\n",
    "**'x' (Exclusive Creation):**\n",
    "\n",
    "- Creates a new file and opens it for writing.\n",
    "- Throws an error if the file already exists.\n",
    "\n",
    "**'+' (Read and Write):**\n",
    "\n",
    "- Opens the file for both reading and writing."
   ]
  },
  {
   "cell_type": "markdown",
   "id": "e9817524",
   "metadata": {},
   "source": [
    "### 2"
   ]
  },
  {
   "cell_type": "markdown",
   "id": "65af5bd3",
   "metadata": {},
   "source": [
    "close() function is used to close the opened file.Once the file is closed the file cannot be accessed for further operations.\n",
    "\n",
    "Syntax:  fileobject.close()\n",
    "\n",
    "After performing file operations like opening,reading,writing we should close the file to \n",
    "- avoid data modification of the file content.\n",
    "- avoid resource release"
   ]
  },
  {
   "cell_type": "markdown",
   "id": "33e7976d",
   "metadata": {},
   "source": [
    "### 3"
   ]
  },
  {
   "cell_type": "code",
   "execution_count": 4,
   "id": "508e7461",
   "metadata": {},
   "outputs": [],
   "source": [
    "f1=open(\"File.txt\",'w')\n",
    "f1.write('I want to become a Data Scientist')\n",
    "f1.close()"
   ]
  },
  {
   "cell_type": "code",
   "execution_count": 6,
   "id": "a5592f1e",
   "metadata": {},
   "outputs": [
    {
     "name": "stdout",
     "output_type": "stream",
     "text": [
      "I want to become a Data Scientist\n"
     ]
    }
   ],
   "source": [
    "f1=open(\"File.txt\",'r')\n",
    "x=f1.read()\n",
    "f1.close()\n",
    "print(x)"
   ]
  },
  {
   "cell_type": "markdown",
   "id": "ae328692",
   "metadata": {},
   "source": [
    "### 4"
   ]
  },
  {
   "cell_type": "markdown",
   "id": "2bb66d94",
   "metadata": {},
   "source": [
    "- read(): reads the total file and return the read content of the file.\n",
    "- readline(): reads a single line from the file and returns that read line.\n",
    "- readlines(): reads all the lines from the file and returns all the lines in the form of list."
   ]
  },
  {
   "cell_type": "code",
   "execution_count": 16,
   "id": "4a13354f",
   "metadata": {},
   "outputs": [],
   "source": [
    "f1=open(\"File1.txt\",'w')\n",
    "f1.write('Good Morning to all.\\n')\n",
    "f1.write('I am a Data Scientist.\\n')\n",
    "f1.write('I am from Hyderabad')\n",
    "f1.close()"
   ]
  },
  {
   "cell_type": "code",
   "execution_count": 22,
   "id": "3d9fbf9a",
   "metadata": {},
   "outputs": [],
   "source": [
    "with open('File1.txt','r') as f1:\n",
    "    x=f1.read()\n",
    "with open('File1.txt','r') as f2:\n",
    "    y=f2.readline()\n",
    "with open('File1.txt','r') as f3:\n",
    "    z=f3.readlines()"
   ]
  },
  {
   "cell_type": "code",
   "execution_count": 20,
   "id": "ef18b4ec",
   "metadata": {},
   "outputs": [
    {
     "name": "stdout",
     "output_type": "stream",
     "text": [
      "read():\n",
      "Good Morning to all.\n",
      "I am a Data Scientist.\n",
      "I am from Hyderabad\n",
      "readline():\n",
      "Good Morning to all.\n",
      "\n",
      "readlines():\n",
      "['Good Morning to all.\\n', 'I am a Data Scientist.\\n', 'I am from Hyderabad']\n"
     ]
    }
   ],
   "source": [
    "print('read():')\n",
    "print(x)\n",
    "\n",
    "print('readline():')\n",
    "print(y)\n",
    "\n",
    "print('readlines():')\n",
    "print(z)"
   ]
  },
  {
   "cell_type": "markdown",
   "id": "79b13031",
   "metadata": {},
   "source": [
    "### 5"
   ]
  },
  {
   "cell_type": "markdown",
   "id": "b7d4805f",
   "metadata": {},
   "source": [
    "- with statement is used with open() to open the file.\n",
    "- when you open the file using with and as keywords we no need to close the file externally because the file will be automatically closed after performing read and write operations.\n",
    "- syntax:\n",
    "      with open(filename,mode) as fileobject:\n",
    "            statements"
   ]
  },
  {
   "cell_type": "markdown",
   "id": "a8a3247e",
   "metadata": {},
   "source": [
    "### 6"
   ]
  },
  {
   "cell_type": "markdown",
   "id": "0a02139d",
   "metadata": {},
   "source": [
    "**write()**:\n",
    "\n",
    "- The write() function is used to write a single string to the file.\n",
    "- It takes a string as an argument and writes that string to the file.\n",
    "\n",
    " fileobject.write(string)\n",
    "\n",
    "**writelines()**:\n",
    "\n",
    "- The writelines() function is used to write a list of strings to the file.\n",
    "- It takes an iterable (such as a list or tuple) of strings as an argument and writes each string to the file.\n",
    "\n",
    " fileobject.writelines(iterable)"
   ]
  },
  {
   "cell_type": "code",
   "execution_count": 23,
   "id": "61619fe8",
   "metadata": {},
   "outputs": [],
   "source": [
    "with open(\"example.txt\", \"w\") as file:\n",
    "    file.write(\"Hello, World!\\n\")\n",
    "    file.write(\"This is a new line.\\n\")\n",
    "    \n",
    "lines = [\"Line 1\\n\", \"Line 2\\n\", \"Line 3\\n\"]\n",
    "with open(\"example.txt\", \"a\") as file:\n",
    "    file.writelines(lines)\n"
   ]
  },
  {
   "cell_type": "code",
   "execution_count": 24,
   "id": "d491c2ca",
   "metadata": {},
   "outputs": [
    {
     "name": "stdout",
     "output_type": "stream",
     "text": [
      "Hello, World!\n",
      "This is a new line.\n",
      "Line 1\n",
      "Line 2\n",
      "Line 3\n",
      "\n"
     ]
    }
   ],
   "source": [
    "with open(\"example.txt\", \"r\") as file:\n",
    "    content = file.read()\n",
    "    print(content)"
   ]
  },
  {
   "cell_type": "code",
   "execution_count": null,
   "id": "4ef5b7be",
   "metadata": {},
   "outputs": [],
   "source": []
  }
 ],
 "metadata": {
  "kernelspec": {
   "display_name": "Python 3 (ipykernel)",
   "language": "python",
   "name": "python3"
  },
  "language_info": {
   "codemirror_mode": {
    "name": "ipython",
    "version": 3
   },
   "file_extension": ".py",
   "mimetype": "text/x-python",
   "name": "python",
   "nbconvert_exporter": "python",
   "pygments_lexer": "ipython3",
   "version": "3.11.0"
  }
 },
 "nbformat": 4,
 "nbformat_minor": 5
}
