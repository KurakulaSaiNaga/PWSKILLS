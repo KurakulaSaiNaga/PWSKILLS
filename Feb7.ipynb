{
 "cells": [
  {
   "cell_type": "markdown",
   "id": "8b0d0c1e",
   "metadata": {},
   "source": [
    "### 1"
   ]
  },
  {
   "cell_type": "code",
   "execution_count": 50,
   "id": "30117bac",
   "metadata": {},
   "outputs": [],
   "source": [
    "def pass_check(password):\n",
    "    if len(password)==10:\n",
    "        if len(re.findall(r'\\d',password))>=1:\n",
    "            if len(re.findall(r'[a-z]',password))>=2:\n",
    "                if len(re.findall(r'[A-Z]',password))>=2:\n",
    "                    if len(re.findall(r'\\W',password))==3:\n",
    "                        return 1\n",
    "    else:\n",
    "        return 0"
   ]
  },
  {
   "cell_type": "code",
   "execution_count": 57,
   "id": "21fafe3e",
   "metadata": {},
   "outputs": [
    {
     "name": "stdout",
     "output_type": "stream",
     "text": [
      "Valid Password\n"
     ]
    }
   ],
   "source": [
    "n=pass_check('12ABcde$@%')\n",
    "if(n==1):\n",
    "    print('Valid Password')\n",
    "else:\n",
    "    print('Invalid Password')"
   ]
  },
  {
   "cell_type": "markdown",
   "id": "9d993aac",
   "metadata": {},
   "source": [
    "### 2"
   ]
  },
  {
   "cell_type": "code",
   "execution_count": 96,
   "id": "cb1d05f3",
   "metadata": {},
   "outputs": [
    {
     "data": {
      "text/plain": [
       "['MONEY', 'MANGO', 'MIRROR']"
      ]
     },
     "execution_count": 96,
     "metadata": {},
     "output_type": "execute_result"
    }
   ],
   "source": [
    "s=['MONEY','MANGO','BANANA','APPLE','MIRROR']\n",
    "k=[ i for i in s if i.startswith('M')]\n",
    "k"
   ]
  },
  {
   "cell_type": "code",
   "execution_count": 97,
   "id": "48c8cdfc",
   "metadata": {},
   "outputs": [
    {
     "data": {
      "text/plain": [
       "['12', '456', '13']"
      ]
     },
     "execution_count": 97,
     "metadata": {},
     "output_type": "execute_result"
    }
   ],
   "source": [
    "s=['MONEY','12','456','APPLE','13']\n",
    "k=list(filter(lambda a:a.isnumeric(),s))\n",
    "k"
   ]
  },
  {
   "cell_type": "code",
   "execution_count": 99,
   "id": "52dd52c3",
   "metadata": {},
   "outputs": [
    {
     "data": {
      "text/plain": [
       "[('orange', 80), ('mango', 99), ('grapes', 1000)]"
      ]
     },
     "execution_count": 99,
     "metadata": {},
     "output_type": "execute_result"
    }
   ],
   "source": [
    "l=[(\"mango\",99),(\"orange\",80), (\"grapes\", 1000)]\n",
    "sorted(l,key=lambda a:a[1])"
   ]
  },
  {
   "cell_type": "code",
   "execution_count": 65,
   "id": "6431da3c",
   "metadata": {},
   "outputs": [
    {
     "data": {
      "text/plain": [
       "[1, 4, 9, 16, 25, 36, 49, 64, 81, 100]"
      ]
     },
     "execution_count": 65,
     "metadata": {},
     "output_type": "execute_result"
    }
   ],
   "source": [
    "m=[i*i for i in range(1,11)]\n",
    "m"
   ]
  },
  {
   "cell_type": "code",
   "execution_count": 68,
   "id": "32f92b2f",
   "metadata": {},
   "outputs": [
    {
     "data": {
      "text/plain": [
       "[1.0,\n",
       " 1.2599210498948732,\n",
       " 1.4422495703074083,\n",
       " 1.5874010519681994,\n",
       " 1.7099759466766968,\n",
       " 1.8171205928321397,\n",
       " 1.912931182772389,\n",
       " 2.0,\n",
       " 2.080083823051904,\n",
       " 2.154434690031884]"
      ]
     },
     "execution_count": 68,
     "metadata": {},
     "output_type": "execute_result"
    }
   ],
   "source": [
    "c=[i**(1/3) for i in range(1 ,11)]\n",
    "c"
   ]
  },
  {
   "cell_type": "code",
   "execution_count": 101,
   "id": "8c3d2d83",
   "metadata": {},
   "outputs": [
    {
     "data": {
      "text/plain": [
       "[False, True, False, True, False, True, False, True, False, True]"
      ]
     },
     "execution_count": 101,
     "metadata": {},
     "output_type": "execute_result"
    }
   ],
   "source": [
    "l=[1,2,3,4,5,6,7,8,9,10]\n",
    "m=[True if i%2==0 else False for i in l]\n",
    "m"
   ]
  },
  {
   "cell_type": "code",
   "execution_count": 73,
   "id": "fe9eb284",
   "metadata": {},
   "outputs": [
    {
     "name": "stdout",
     "output_type": "stream",
     "text": [
      "[1, 3, 5, 7, 9]\n"
     ]
    }
   ],
   "source": [
    "a=[1,2,3,4,5,6,7,8,9,10]\n",
    "print(list(filter(lambda b:b%2!=0,a)))"
   ]
  },
  {
   "cell_type": "code",
   "execution_count": 90,
   "id": "de192ec6",
   "metadata": {},
   "outputs": [
    {
     "name": "stdout",
     "output_type": "stream",
     "text": [
      "[0, 1, 2, 3, 4, 5, 6] [-5, -4, -3, -2, -1]\n"
     ]
    }
   ],
   "source": [
    "k=[1,2,3,4,5,6,-1,-2,-3,-4,-5,0]\n",
    "pos=sorted([x for x in k if x>=0])\n",
    "neg=sorted([y for y in k if y<0])\n",
    "print(pos,neg)"
   ]
  },
  {
   "cell_type": "code",
   "execution_count": null,
   "id": "8e6e199a",
   "metadata": {},
   "outputs": [],
   "source": []
  }
 ],
 "metadata": {
  "kernelspec": {
   "display_name": "Python 3 (ipykernel)",
   "language": "python",
   "name": "python3"
  },
  "language_info": {
   "codemirror_mode": {
    "name": "ipython",
    "version": 3
   },
   "file_extension": ".py",
   "mimetype": "text/x-python",
   "name": "python",
   "nbconvert_exporter": "python",
   "pygments_lexer": "ipython3",
   "version": "3.11.0"
  }
 },
 "nbformat": 4,
 "nbformat_minor": 5
}
