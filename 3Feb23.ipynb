{
 "cells": [
  {
   "cell_type": "markdown",
   "id": "4c8fa60e",
   "metadata": {},
   "source": [
    "### 1"
   ]
  },
  {
   "cell_type": "code",
   "execution_count": 3,
   "id": "86606c67",
   "metadata": {},
   "outputs": [
    {
     "name": "stdout",
     "output_type": "stream",
     "text": [
      "[1, 3, 5, 7, 9, 11, 13, 15, 17, 19, 21, 23, 25]\n"
     ]
    }
   ],
   "source": [
    "# def keyword is used to create a function\n",
    "def fun():\n",
    "    odd_list=[]\n",
    "    for i in range(0,26):\n",
    "        if i%2!=0:\n",
    "            odd_list.append(i)\n",
    "    return odd_list\n",
    "oddfun=fun()\n",
    "print(oddfun)"
   ]
  },
  {
   "cell_type": "markdown",
   "id": "f110ff35",
   "metadata": {},
   "source": [
    "### 2"
   ]
  },
  {
   "cell_type": "code",
   "execution_count": null,
   "id": "dbd5e049",
   "metadata": {},
   "outputs": [],
   "source": [
    "In Python,*args and **kwargs are special syntaxes used in function definitions to pass a variable number of arguments to a \n",
    "function.\n",
    "1.*args is used to pass a variable-length non-keyworded argument list to the function. It allows a function to accept any number\n",
    "of positional arguments (i.e., arguments that don't have a specific keyword attached to them). The arguments are packed into a \n",
    "tuple, which can be accessed inside the function.\n",
    "                         \n",
    "def sum_numbers(*args):\n",
    "   total = 0\n",
    "   for num in args:\n",
    "        total += num\n",
    "   return total\n",
    "result = sum_numbers(1, 2, 3, 4, 5)\n",
    "print(result)  #output:15\n",
    "                         \n",
    "2.**kwargs is used to pass a variable-length keyworded argument list to the function. It allows a function to accept any number\n",
    "of keyword arguments (i.e., arguments that have a specific keyword attached to them). The arguments are packed into a \n",
    "dictionary,which can be accessed inside the function.\n",
    "                \n",
    "def print_info(**kwargs):\n",
    "    for key, value in kwargs.items():\n",
    "        print(key, \"=\", value)\n",
    "print_info(name=\"John\", age=30, city=\"New York\")#output:name = John age = 30 city = New York\n"
   ]
  },
  {
   "cell_type": "markdown",
   "id": "4d982e5e",
   "metadata": {},
   "source": [
    "### 3"
   ]
  },
  {
   "cell_type": "markdown",
   "id": "947efbb4",
   "metadata": {},
   "source": [
    "An iterator in Python is an object that implements the iterator protocol, which consists of the __iter__ and __next__ methods. \n",
    "It provides a way to iterate over a collection of objects, such as a list, tuple, or dictionary, one at a time.\n",
    "To create an iterator object in Python, you can use the iter() function. The iter() function takes an iterable object as an \n",
    "argument and returns an iterator object.\n",
    "To iterate over the elements of an iterator object, you can use the next() function. The next() function retrieves the next \n",
    "element from the iterator and raises a StopIteration exception when there are no more elements left to retrieve.\n"
   ]
  },
  {
   "cell_type": "code",
   "execution_count": 6,
   "id": "ac1b3393",
   "metadata": {},
   "outputs": [
    {
     "name": "stdout",
     "output_type": "stream",
     "text": [
      "2\n",
      "4\n",
      "6\n",
      "8\n",
      "10\n"
     ]
    }
   ],
   "source": [
    "my_list = [2, 4, 6, 8, 10, 12, 14, 16, 18, 20]\n",
    "\n",
    "# create an iterator object\n",
    "my_iterator = iter(my_list)\n",
    "\n",
    "# iterate over the first five elements using the next() function\n",
    "for i in range(5):\n",
    "    print(next(my_iterator))\n"
   ]
  },
  {
   "cell_type": "markdown",
   "id": "9b55859a",
   "metadata": {},
   "source": [
    "### 4"
   ]
  },
  {
   "cell_type": "markdown",
   "id": "bac3f414",
   "metadata": {},
   "source": [
    "A generator function in Python is a special type of function that returns an iterator object which can be used to iterate over\n",
    "a sequence of values. Unlike regular functions that return a single value and then terminate, generator functions can yield \n",
    "multiple values, one at a time, and then resume execution from where they left off on the next call.\n",
    "The yield keyword is used in generator functions to return a value to the caller, but instead of terminating the function like \n",
    "a regular return statement, it simply suspends the function and saves its state. The next time the function is called, it \n",
    "resumes execution from where it left off and continues to yield values until there are no more values left to yield.\n"
   ]
  },
  {
   "cell_type": "code",
   "execution_count": 2,
   "id": "0b7f480d",
   "metadata": {},
   "outputs": [
    {
     "name": "stdout",
     "output_type": "stream",
     "text": [
      "0\n",
      "1\n",
      "1\n",
      "2\n",
      "3\n",
      "5\n",
      "8\n",
      "13\n",
      "21\n",
      "34\n"
     ]
    }
   ],
   "source": [
    "def fibonacci(n):\n",
    "    a, b = 0, 1  \n",
    "    for i in range(n):\n",
    "        yield a\n",
    "        a, b = b, a + b\n",
    "# generate the first 10 Fibonacci numbers\n",
    "for num in fibonacci(10):\n",
    "    print(num)"
   ]
  },
  {
   "cell_type": "markdown",
   "id": "a8ec8994",
   "metadata": {},
   "source": [
    "### 5"
   ]
  },
  {
   "cell_type": "code",
   "execution_count": 4,
   "id": "2c4e95bb",
   "metadata": {},
   "outputs": [
    {
     "name": "stdout",
     "output_type": "stream",
     "text": [
      "2\n",
      "3\n",
      "5\n",
      "7\n",
      "11\n",
      "13\n",
      "17\n",
      "19\n",
      "23\n",
      "29\n",
      "31\n",
      "37\n",
      "41\n",
      "43\n",
      "47\n",
      "53\n",
      "59\n",
      "61\n",
      "67\n",
      "71\n"
     ]
    }
   ],
   "source": [
    "def primes():\n",
    "    candidates = list(range(2, 1000))\n",
    "    while len(candidates) > 0:\n",
    "        prime = candidates[0]\n",
    "        yield prime\n",
    "        candidates = [num for num in candidates if num % prime != 0]\n",
    "prime_gen = primes()\n",
    "for i in range(20):\n",
    "    print(next(prime_gen))\n"
   ]
  }
 ],
 "metadata": {
  "kernelspec": {
   "display_name": "Python 3 (ipykernel)",
   "language": "python",
   "name": "python3"
  },
  "language_info": {
   "codemirror_mode": {
    "name": "ipython",
    "version": 3
   },
   "file_extension": ".py",
   "mimetype": "text/x-python",
   "name": "python",
   "nbconvert_exporter": "python",
   "pygments_lexer": "ipython3",
   "version": "3.11.0"
  }
 },
 "nbformat": 4,
 "nbformat_minor": 5
}
